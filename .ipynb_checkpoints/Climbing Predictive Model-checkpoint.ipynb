{
 "cells": [
  {
   "cell_type": "markdown",
   "metadata": {},
   "source": [
    "<h1> Climbing Ability Regression Model</h1>\n",
    "\n",
    "The purpose of this project is to compare and contrast various popular regression methods - DecisionTreeClassifier, AdaBoost, RandomForestClassifier and XGBoost. I will also be seeing how various processing techniques affect the performance of the models, such as methodologies to deal with NULL values, hyper parameter selection, sandbagging techniques etc. The goal is not to produce the most perfectly fine tuned model (or close to), but to test a range of methodologies used to create regression models and to develop some deeper understanding of their applied nuances. In addition, creating a code repository for different stages of this investigation (visualising decision trees, comparing different models, cross validation, hyper parameter tuning) will be valuable for future projects.\n",
    "\n",
    "The dataset itself is found from Kaggle (https://www.kaggle.com/dcohen21/8anu-climbing-logbook). \n",
    "\n",
    "<h3> Key Outcomes and Learnings </h3>\n",
    "\n",
    "<ul>\n",
    "<li> How to fit a simple decision tree, create a visualisation of it and draw top-line conclusions.</li>\n",
    "<li> Found a simple way to compare baseline models.</li>\n",
    "<li> Found out-of-the-box AdaBoost exemplified some of it's inherent flaws in smaller datasets, possibly overfitting to noise (especially noticeable in (high K) KFold cross validation on the smaller dataset).</li>\n",
    "<li> Dealing with NULL values on a larger dataset as opposed to a smaller, complete dataset decreased almost all of our model's variance by a considerable amount. </li>\n",
    "<li> ROC curves become exponentially more complicated to plot with in multi-class regression problems, making accuracy score the most easily attainable measure of model performance. During CV, using roc_auc as a performance metric was not possible. </li>\n",
    "<li> Precision/recall measurements in multi-class problems denote a single precision/recall per class predicted. The methodology remains the same to calculate precision (number of correctly predicted beginners out of all predicted beginners) and recall (of all actual beginners, how many predicted correctly).</li>\n",
    "<li> Wrote simple methodology to tune hyper-parameters using RandomizedGridSearchCV.</li>\n",
    "<li> Applied hash functions, created dummy variables and gained experience using a number of different data manipulation techniques in Python </li>\n",
    "    \n",
    "</ul>\n",
    "\n",
    "<h3> Contents </h3>\n",
    "<ul>\n",
    "<li>Data Cleaning and Decision Tree Visualisation  </li>\n",
    "<li>Regression Model Selection </li>\n",
    "<li>Testing NULL Management Methodologies </li>\n",
    "<li>Hyper-Parameter Tuning and Insights </li>\n",
    "\n",
    "</ul>\n"
   ]
  },
  {
   "cell_type": "markdown",
   "metadata": {},
   "source": [
    "<h2> Data Cleaning and Decision Tree Visualisation </h2>"
   ]
  },
  {
   "cell_type": "markdown",
   "metadata": {},
   "source": [
    "This project's aim is to predict climber's skill level (arbitrary skill levels from https://sportrock.com/understanding-climbing-grades/) and hardest climb achieved.\n",
    "All previous data processing and cleaning was done in python, and reached memory error when replicating on entire dataset.\n",
    "Instead repeated with all manipulation done in SQLite DB browser using the following script, and created .csv's of 1) a table that only selects rows with non-NULL or blank feature variables, and another with the complete dataset including the NULLs to test the effect of NULL-handling methodologies."
   ]
  },
  {
   "cell_type": "code",
   "execution_count": 3,
   "metadata": {},
   "outputs": [],
   "source": [
    "# #sql cleaning script \n",
    "# creating two tables, one which only selects rows with non null/blank feature variables and the other with the \n",
    "# complete dataaset with nulls\n",
    "\n",
    "# DROP TABLE IF EXISTS climbing_data_cleaning_1;\n",
    "# CREATE TABLE climbing_data_cleaning_1 AS \n",
    "# SELECT   t1.id as ascent_id\n",
    "# \t\t,t1.user_id\n",
    "# \t\t,t1.rating\n",
    "# \t\t,climb_try\n",
    "# \t\t,UPPER(t3.country) as country\n",
    "# \t\t,CAST(t3.sex as height) as sex\n",
    "# \t\t,CAST(t3.weight as int ) as weight\n",
    "# \t\t,CAST(t3.height as int) as height\n",
    "# \t\t,2020 - t3.started as years_climbing\n",
    "# \t\t,UPPER(t3.occupation) as occupation\n",
    "# \t\t,CASE WHEN sponsor1 > '' OR sponsor2 > '' OR sponsor3 > '' then 1 else 0 end as sponsored\n",
    "# \t\t,count(*) OVER(PARTITION BY user_id) AS number_of_logged_climbs\n",
    "# \t\t,t2.fra_boulders as grade\n",
    "# \t\t,t2.score as grade_number\n",
    "# \t\t,MAX(t2.score) OVER(PARTITION BY user_id) AS max_grade_achieved \n",
    "# \t\t,t4.shorthand\n",
    "# \t\t,CASE WHEN t2.id IS NULL then 1 else 0 end as failed_grade_join \n",
    "# \t\t,CASE WHEN t3.id IS NULL then 1 else 0 end as failed_user_join\n",
    "# \t\t,CASE WHEN t4.id IS NULL then 1 else 0 end as failed_method_join \n",
    "# FROM ascent t1 \n",
    "# LEFT JOIN grade t2 \n",
    "# ON t1.grade_id = t2.id\n",
    "# LEFT JOIN user t3\n",
    "# ON t1.user_id = t3.id\n",
    "# LEFT JOIN method t4\n",
    "# ON t1.method_id = t4.id\n",
    "# WHERE t4.shorthand != 'toprope';\n",
    "\n",
    "# DROP TABLE IF EXISTS climbing_data_cleaning_final_removed_nulls;\n",
    "# CREATE TABLE climbing_data_cleaning_final_removed_nulls AS \n",
    "# SELECT   DISTINCT  user_id\n",
    "# \t\t ,country\n",
    "# \t\t ,sex\n",
    "# \t\t ,weight\n",
    "# \t\t ,height\n",
    "# \t\t ,years_climbing\n",
    "# \t\t ,occupation\n",
    "# \t\t ,sponsored\n",
    "# \t\t ,number_of_logged_climbs\n",
    "# \t\t ,max_grade_achieved AS max_climbing_grade\n",
    "# \t\t ,CASE WHEN max_grade_achieved BETWEEN 0 AND 450 THEN CAST(1 AS int)\n",
    "# \t\t\t   WHEN max_grade_achieved BETWEEN 451 AND 750 THEN  CAST(2 AS int)\n",
    "# \t\t\t   WHEN max_grade_achieved BETWEEN 751 AND 950 THEN CAST(3 AS int)\n",
    "# \t\t\t   WHEN max_grade_achieved > 951 THEN CAST(4 AS int) END AS skill_level\n",
    "# FROM climbing_data_cleaning_1\n",
    "# WHERE occupation > '' \n",
    "# AND height > 0\n",
    "# AND weight > 0;\n",
    "\n",
    "# DROP TABLE IF EXISTS climbing_data_cleaning_final_with_nulls;\n",
    "# CREATE TABLE climbing_data_cleaning_final_with_nulls AS \n",
    "# SELECT   DISTINCT  user_id\n",
    "# \t\t ,country\n",
    "# \t\t ,sex\n",
    "# \t\t ,weight\n",
    "# \t\t ,height\n",
    "# \t\t ,years_climbing\n",
    "# \t\t ,occupation\n",
    "# \t\t ,sponsored\n",
    "# \t\t ,number_of_logged_climbs\n",
    "# \t\t ,max_grade_achieved AS max_climbing_grade\n",
    "# \t\t ,CASE WHEN max_grade_achieved BETWEEN 0 AND 450 THEN CAST(1 AS int)\n",
    "# \t\t\t   WHEN max_grade_achieved BETWEEN 451 AND 750 THEN  CAST(2 AS int)\n",
    "# \t\t\t   WHEN max_grade_achieved BETWEEN 751 AND 950 THEN CAST(3 AS int)\n",
    "# \t\t\t   WHEN max_grade_achieved > 951 THEN CAST(4 AS int) END AS skill_level\n",
    "# FROM climbing_data_cleaning_1;\n"
   ]
  },
  {
   "cell_type": "code",
   "execution_count": 1,
   "metadata": {},
   "outputs": [
    {
     "name": "stdout",
     "output_type": "stream",
     "text": [
      "Imported all libraries successfully\n"
     ]
    },
    {
     "name": "stderr",
     "output_type": "stream",
     "text": [
      "C:\\Users\\Michael\\anaconda3\\lib\\site-packages\\sklearn\\externals\\six.py:31: FutureWarning: The module is deprecated in version 0.21 and will be removed in version 0.23 since we've dropped support for Python 2.7. Please rely on the official version of six (https://pypi.org/project/six/).\n",
      "  \"(https://pypi.org/project/six/).\", FutureWarning)\n"
     ]
    }
   ],
   "source": [
    "#Import Libraries \n",
    "import pandas as pd\n",
    "import sqlite3\n",
    "import numpy as np\n",
    "from IPython.display import Image  \n",
    "import matplotlib.pyplot as plt\n",
    "import seaborn as sns\n",
    "\n",
    "from sklearn.preprocessing import StandardScaler\n",
    "from sklearn.impute import SimpleImputer\n",
    "from sklearn.model_selection import train_test_split\n",
    "from sklearn.model_selection import cross_val_score\n",
    "from sklearn.model_selection import GridSearchCV\n",
    "from sklearn.model_selection import KFold\n",
    "from sklearn.model_selection import RandomizedSearchCV \n",
    "from sklearn.metrics import confusion_matrix \n",
    "from sklearn.metrics import accuracy_score \n",
    "from sklearn.metrics import classification_report \n",
    "from sklearn.metrics import precision_score\n",
    "from sklearn.metrics import recall_score\n",
    "from sklearn.tree import DecisionTreeClassifier\n",
    "from sklearn.tree import export_graphviz\n",
    "from sklearn.linear_model import LogisticRegression\n",
    "from sklearn import tree\n",
    "from sklearn.ensemble import AdaBoostClassifier\n",
    "from sklearn.ensemble import RandomForestClassifier\n",
    "from sklearn.externals.six import StringIO  \n",
    "\n",
    "from graphviz import Source\n",
    "from IPython.display import display\n",
    "from IPython.display import SVG\n",
    "from xgboost import XGBClassifier\n",
    "from tqdm import tqdm\n",
    "\n",
    "print(\"Imported all libraries successfully\")"
   ]
  },
  {
   "cell_type": "code",
   "execution_count": 4,
   "metadata": {},
   "outputs": [
    {
     "name": "stdout",
     "output_type": "stream",
     "text": [
      "Data imported correctly\n"
     ]
    }
   ],
   "source": [
    "#import dataset with no nulls first \n",
    "\n",
    "#using read_csv\n",
    "df_clean = pd.read_csv(\"cleaned_table_removed_nulls.csv\")\n",
    "\n",
    "#using sqlite (unsure how to add relative path connection to sql lite)\n",
    "# con = sqlite3.connect(\"climbing_predictive_model_database.db\")\n",
    "\n",
    "# df_clean = pd.read_sql_query(\"SELECT * from cleaned_data_complete\", con)\n",
    "\n",
    "print(\"Data imported correctly\")"
   ]
  },
  {
   "cell_type": "code",
   "execution_count": 5,
   "metadata": {},
   "outputs": [
    {
     "data": {
      "text/html": [
       "<div>\n",
       "<style scoped>\n",
       "    .dataframe tbody tr th:only-of-type {\n",
       "        vertical-align: middle;\n",
       "    }\n",
       "\n",
       "    .dataframe tbody tr th {\n",
       "        vertical-align: top;\n",
       "    }\n",
       "\n",
       "    .dataframe thead th {\n",
       "        text-align: right;\n",
       "    }\n",
       "</style>\n",
       "<table border=\"1\" class=\"dataframe\">\n",
       "  <thead>\n",
       "    <tr style=\"text-align: right;\">\n",
       "      <th></th>\n",
       "      <th>user_id</th>\n",
       "      <th>country</th>\n",
       "      <th>sex</th>\n",
       "      <th>weight</th>\n",
       "      <th>height</th>\n",
       "      <th>years_climbing</th>\n",
       "      <th>occupation</th>\n",
       "      <th>sponsored</th>\n",
       "      <th>number_of_logged_climbs</th>\n",
       "      <th>skill_level</th>\n",
       "    </tr>\n",
       "  </thead>\n",
       "  <tbody>\n",
       "    <tr>\n",
       "      <th>0</th>\n",
       "      <td>11</td>\n",
       "      <td>SWE</td>\n",
       "      <td>0</td>\n",
       "      <td>73</td>\n",
       "      <td>175</td>\n",
       "      <td>22</td>\n",
       "      <td>STUDENT</td>\n",
       "      <td>0</td>\n",
       "      <td>278</td>\n",
       "      <td>4</td>\n",
       "    </tr>\n",
       "    <tr>\n",
       "      <th>1</th>\n",
       "      <td>16</td>\n",
       "      <td>NOR</td>\n",
       "      <td>0</td>\n",
       "      <td>68</td>\n",
       "      <td>177</td>\n",
       "      <td>24</td>\n",
       "      <td>TEACHER</td>\n",
       "      <td>0</td>\n",
       "      <td>171</td>\n",
       "      <td>4</td>\n",
       "    </tr>\n",
       "    <tr>\n",
       "      <th>2</th>\n",
       "      <td>19</td>\n",
       "      <td>BEL</td>\n",
       "      <td>0</td>\n",
       "      <td>68</td>\n",
       "      <td>180</td>\n",
       "      <td>24</td>\n",
       "      <td>STUDENT</td>\n",
       "      <td>1</td>\n",
       "      <td>63</td>\n",
       "      <td>2</td>\n",
       "    </tr>\n",
       "    <tr>\n",
       "      <th>3</th>\n",
       "      <td>34</td>\n",
       "      <td>NZL</td>\n",
       "      <td>0</td>\n",
       "      <td>68</td>\n",
       "      <td>180</td>\n",
       "      <td>27</td>\n",
       "      <td>SYSTEMS MANAGER</td>\n",
       "      <td>0</td>\n",
       "      <td>31</td>\n",
       "      <td>3</td>\n",
       "    </tr>\n",
       "    <tr>\n",
       "      <th>4</th>\n",
       "      <td>38</td>\n",
       "      <td>GBR</td>\n",
       "      <td>0</td>\n",
       "      <td>73</td>\n",
       "      <td>178</td>\n",
       "      <td>27</td>\n",
       "      <td>CLIMBING WALL GUY</td>\n",
       "      <td>0</td>\n",
       "      <td>1179</td>\n",
       "      <td>4</td>\n",
       "    </tr>\n",
       "  </tbody>\n",
       "</table>\n",
       "</div>"
      ],
      "text/plain": [
       "   user_id country  sex  weight  height  years_climbing         occupation  \\\n",
       "0       11     SWE    0      73     175              22            STUDENT   \n",
       "1       16     NOR    0      68     177              24            TEACHER   \n",
       "2       19     BEL    0      68     180              24            STUDENT   \n",
       "3       34     NZL    0      68     180              27    SYSTEMS MANAGER   \n",
       "4       38     GBR    0      73     178              27  CLIMBING WALL GUY   \n",
       "\n",
       "   sponsored  number_of_logged_climbs  skill_level  \n",
       "0          0                      278            4  \n",
       "1          0                      171            4  \n",
       "2          1                       63            2  \n",
       "3          0                       31            3  \n",
       "4          0                     1179            4  "
      ]
     },
     "execution_count": 5,
     "metadata": {},
     "output_type": "execute_result"
    },
    {
     "name": "stdout",
     "output_type": "stream",
     "text": [
      "<class 'pandas.core.frame.DataFrame'>\n",
      "RangeIndex: 7294 entries, 0 to 7293\n",
      "Data columns (total 10 columns):\n",
      " #   Column                   Non-Null Count  Dtype \n",
      "---  ------                   --------------  ----- \n",
      " 0   user_id                  7294 non-null   int64 \n",
      " 1   country                  7293 non-null   object\n",
      " 2   sex                      7294 non-null   int64 \n",
      " 3   weight                   7294 non-null   int64 \n",
      " 4   height                   7294 non-null   int64 \n",
      " 5   years_climbing           7294 non-null   int64 \n",
      " 6   occupation               7291 non-null   object\n",
      " 7   sponsored                7294 non-null   int64 \n",
      " 8   number_of_logged_climbs  7294 non-null   int64 \n",
      " 9   skill_level              7294 non-null   int64 \n",
      "dtypes: int64(8), object(2)\n",
      "memory usage: 570.0+ KB\n"
     ]
    }
   ],
   "source": [
    "#Project changed to predicting skill level instead of specific max grade. dropping max_climbing_grade and inspecting head\n",
    "df_clean = df_clean.drop('max_climbing_grade', 1)\n",
    "df_clean.head()\n",
    "df_clean.info()"
   ]
  },
  {
   "cell_type": "code",
   "execution_count": 7,
   "metadata": {},
   "outputs": [
    {
     "data": {
      "text/html": [
       "<div>\n",
       "<style scoped>\n",
       "    .dataframe tbody tr th:only-of-type {\n",
       "        vertical-align: middle;\n",
       "    }\n",
       "\n",
       "    .dataframe tbody tr th {\n",
       "        vertical-align: top;\n",
       "    }\n",
       "\n",
       "    .dataframe thead th {\n",
       "        text-align: right;\n",
       "    }\n",
       "</style>\n",
       "<table border=\"1\" class=\"dataframe\">\n",
       "  <thead>\n",
       "    <tr style=\"text-align: right;\">\n",
       "      <th></th>\n",
       "      <th>user_id</th>\n",
       "      <th>country</th>\n",
       "      <th>sex</th>\n",
       "      <th>weight</th>\n",
       "      <th>height</th>\n",
       "      <th>years_climbing</th>\n",
       "      <th>occupation</th>\n",
       "      <th>sponsored</th>\n",
       "      <th>number_of_logged_climbs</th>\n",
       "      <th>skill_level</th>\n",
       "      <th>...</th>\n",
       "      <th>UKR_y</th>\n",
       "      <th>USA_y</th>\n",
       "      <th>VEN_y</th>\n",
       "      <th>VGB_y</th>\n",
       "      <th>VNM_y</th>\n",
       "      <th>WLF_y</th>\n",
       "      <th>WSM_y</th>\n",
       "      <th>YUG_y</th>\n",
       "      <th>ZAF_y</th>\n",
       "      <th>ZWE_y</th>\n",
       "    </tr>\n",
       "  </thead>\n",
       "  <tbody>\n",
       "    <tr>\n",
       "      <th>0</th>\n",
       "      <td>11</td>\n",
       "      <td>SWE</td>\n",
       "      <td>0</td>\n",
       "      <td>73</td>\n",
       "      <td>175</td>\n",
       "      <td>22</td>\n",
       "      <td>STUDENT</td>\n",
       "      <td>0</td>\n",
       "      <td>278</td>\n",
       "      <td>4</td>\n",
       "      <td>...</td>\n",
       "      <td>0</td>\n",
       "      <td>0</td>\n",
       "      <td>0</td>\n",
       "      <td>0</td>\n",
       "      <td>0</td>\n",
       "      <td>0</td>\n",
       "      <td>0</td>\n",
       "      <td>0</td>\n",
       "      <td>0</td>\n",
       "      <td>0</td>\n",
       "    </tr>\n",
       "    <tr>\n",
       "      <th>1</th>\n",
       "      <td>16</td>\n",
       "      <td>NOR</td>\n",
       "      <td>0</td>\n",
       "      <td>68</td>\n",
       "      <td>177</td>\n",
       "      <td>24</td>\n",
       "      <td>TEACHER</td>\n",
       "      <td>0</td>\n",
       "      <td>171</td>\n",
       "      <td>4</td>\n",
       "      <td>...</td>\n",
       "      <td>0</td>\n",
       "      <td>0</td>\n",
       "      <td>0</td>\n",
       "      <td>0</td>\n",
       "      <td>0</td>\n",
       "      <td>0</td>\n",
       "      <td>0</td>\n",
       "      <td>0</td>\n",
       "      <td>0</td>\n",
       "      <td>0</td>\n",
       "    </tr>\n",
       "    <tr>\n",
       "      <th>2</th>\n",
       "      <td>19</td>\n",
       "      <td>BEL</td>\n",
       "      <td>0</td>\n",
       "      <td>68</td>\n",
       "      <td>180</td>\n",
       "      <td>24</td>\n",
       "      <td>STUDENT</td>\n",
       "      <td>1</td>\n",
       "      <td>63</td>\n",
       "      <td>2</td>\n",
       "      <td>...</td>\n",
       "      <td>0</td>\n",
       "      <td>0</td>\n",
       "      <td>0</td>\n",
       "      <td>0</td>\n",
       "      <td>0</td>\n",
       "      <td>0</td>\n",
       "      <td>0</td>\n",
       "      <td>0</td>\n",
       "      <td>0</td>\n",
       "      <td>0</td>\n",
       "    </tr>\n",
       "    <tr>\n",
       "      <th>3</th>\n",
       "      <td>34</td>\n",
       "      <td>NZL</td>\n",
       "      <td>0</td>\n",
       "      <td>68</td>\n",
       "      <td>180</td>\n",
       "      <td>27</td>\n",
       "      <td>SYSTEMS MANAGER</td>\n",
       "      <td>0</td>\n",
       "      <td>31</td>\n",
       "      <td>3</td>\n",
       "      <td>...</td>\n",
       "      <td>0</td>\n",
       "      <td>0</td>\n",
       "      <td>0</td>\n",
       "      <td>0</td>\n",
       "      <td>0</td>\n",
       "      <td>0</td>\n",
       "      <td>0</td>\n",
       "      <td>0</td>\n",
       "      <td>0</td>\n",
       "      <td>0</td>\n",
       "    </tr>\n",
       "    <tr>\n",
       "      <th>4</th>\n",
       "      <td>38</td>\n",
       "      <td>GBR</td>\n",
       "      <td>0</td>\n",
       "      <td>73</td>\n",
       "      <td>178</td>\n",
       "      <td>27</td>\n",
       "      <td>CLIMBING WALL GUY</td>\n",
       "      <td>0</td>\n",
       "      <td>1179</td>\n",
       "      <td>4</td>\n",
       "      <td>...</td>\n",
       "      <td>0</td>\n",
       "      <td>0</td>\n",
       "      <td>0</td>\n",
       "      <td>0</td>\n",
       "      <td>0</td>\n",
       "      <td>0</td>\n",
       "      <td>0</td>\n",
       "      <td>0</td>\n",
       "      <td>0</td>\n",
       "      <td>0</td>\n",
       "    </tr>\n",
       "  </tbody>\n",
       "</table>\n",
       "<p>5 rows × 208 columns</p>\n",
       "</div>"
      ],
      "text/plain": [
       "   user_id country  sex  weight  height  years_climbing         occupation  \\\n",
       "0       11     SWE    0      73     175              22            STUDENT   \n",
       "1       16     NOR    0      68     177              24            TEACHER   \n",
       "2       19     BEL    0      68     180              24            STUDENT   \n",
       "3       34     NZL    0      68     180              27    SYSTEMS MANAGER   \n",
       "4       38     GBR    0      73     178              27  CLIMBING WALL GUY   \n",
       "\n",
       "   sponsored  number_of_logged_climbs  skill_level  ...  UKR_y  USA_y  VEN_y  \\\n",
       "0          0                      278            4  ...      0      0      0   \n",
       "1          0                      171            4  ...      0      0      0   \n",
       "2          1                       63            2  ...      0      0      0   \n",
       "3          0                       31            3  ...      0      0      0   \n",
       "4          0                     1179            4  ...      0      0      0   \n",
       "\n",
       "   VGB_y  VNM_y  WLF_y  WSM_y  YUG_y  ZAF_y  ZWE_y  \n",
       "0      0      0      0      0      0      0      0  \n",
       "1      0      0      0      0      0      0      0  \n",
       "2      0      0      0      0      0      0      0  \n",
       "3      0      0      0      0      0      0      0  \n",
       "4      0      0      0      0      0      0      0  \n",
       "\n",
       "[5 rows x 208 columns]"
      ]
     },
     "execution_count": 7,
     "metadata": {},
     "output_type": "execute_result"
    },
    {
     "name": "stdout",
     "output_type": "stream",
     "text": [
      "<class 'pandas.core.frame.DataFrame'>\n",
      "RangeIndex: 7294 entries, 0 to 7293\n",
      "Columns: 208 entries, user_id to ZWE_y\n",
      "dtypes: int64(8), object(2), uint8(198)\n",
      "memory usage: 1.9+ MB\n",
      "Dummy variables created/appended, index reset\n"
     ]
    }
   ],
   "source": [
    "#creating dummy variables for categorical columns and adding to dataframe\n",
    "df_dummy_country = pd.get_dummies(df_clean['country'])\n",
    "df_dummy_occupation = pd.get_dummies(df_clean['occupation'])\n",
    "\n",
    "df_clean_final = pd.concat([df_clean,  df_dummy_occupation], axis=1)\n",
    "df_clean_final = df_clean_final.merge(df_dummy_occupation,left_index=True, right_index=True)\n",
    "\n",
    "df_clean_final = pd.concat([df_clean,  df_dummy_country], axis=1)\n",
    "df_clean_final = df_clean_final.merge(df_dummy_country,left_index=True, right_index=True)\n",
    "\n",
    "df_clean_final.head()\n",
    "df_clean_final.info()\n",
    "print(\"Dummy variables created/appended, index reset\")"
   ]
  },
  {
   "cell_type": "code",
   "execution_count": 8,
   "metadata": {},
   "outputs": [
    {
     "data": {
      "text/plain": [
       "DecisionTreeClassifier(ccp_alpha=0.0, class_weight=None, criterion='gini',\n",
       "                       max_depth=4, max_features=None, max_leaf_nodes=None,\n",
       "                       min_impurity_decrease=0.0, min_impurity_split=None,\n",
       "                       min_samples_leaf=1, min_samples_split=2,\n",
       "                       min_weight_fraction_leaf=0.0, presort='deprecated',\n",
       "                       random_state=42, splitter='best')"
      ]
     },
     "execution_count": 8,
     "metadata": {},
     "output_type": "execute_result"
    },
    {
     "data": {
      "image/svg+xml": [
       "<svg height=\"552pt\" viewBox=\"0.00 0.00 2720.00 552.00\" width=\"2720pt\" xmlns=\"http://www.w3.org/2000/svg\" xmlns:xlink=\"http://www.w3.org/1999/xlink\">\n",
       "<g class=\"graph\" id=\"graph0\" transform=\"scale(1 1) rotate(0) translate(4 548)\">\n",
       "<title>Tree</title>\n",
       "<polygon fill=\"white\" points=\"-4,4 -4,-548 2716,-548 2716,4 -4,4\" stroke=\"none\"/>\n",
       "<!-- 0 -->\n",
       "<g class=\"node\" id=\"node1\"><title>0</title>\n",
       "<polygon fill=\"#fdf5fe\" points=\"1534,-544 1312,-544 1312,-461 1534,-461 1534,-544\" stroke=\"black\"/>\n",
       "<text font-family=\"Times New Roman,serif\" font-size=\"14.00\" text-anchor=\"middle\" x=\"1423\" y=\"-528.8\">number_of_logged_climbs &lt;= 105.5</text>\n",
       "<text font-family=\"Times New Roman,serif\" font-size=\"14.00\" text-anchor=\"middle\" x=\"1423\" y=\"-513.8\">gini = 0.705</text>\n",
       "<text font-family=\"Times New Roman,serif\" font-size=\"14.00\" text-anchor=\"middle\" x=\"1423\" y=\"-498.8\">samples = 7294</text>\n",
       "<text font-family=\"Times New Roman,serif\" font-size=\"14.00\" text-anchor=\"middle\" x=\"1423\" y=\"-483.8\">value = [520, 1987, 2272, 2515]</text>\n",
       "<text font-family=\"Times New Roman,serif\" font-size=\"14.00\" text-anchor=\"middle\" x=\"1423\" y=\"-468.8\">class = World Class</text>\n",
       "</g>\n",
       "<!-- 1 -->\n",
       "<g class=\"node\" id=\"node2\"><title>1</title>\n",
       "<polygon fill=\"#e9fce8\" points=\"1183.5,-425 968.5,-425 968.5,-342 1183.5,-342 1183.5,-425\" stroke=\"black\"/>\n",
       "<text font-family=\"Times New Roman,serif\" font-size=\"14.00\" text-anchor=\"middle\" x=\"1076\" y=\"-409.8\">number_of_logged_climbs &lt;= 18.5</text>\n",
       "<text font-family=\"Times New Roman,serif\" font-size=\"14.00\" text-anchor=\"middle\" x=\"1076\" y=\"-394.8\">gini = 0.703</text>\n",
       "<text font-family=\"Times New Roman,serif\" font-size=\"14.00\" text-anchor=\"middle\" x=\"1076\" y=\"-379.8\">samples = 4568</text>\n",
       "<text font-family=\"Times New Roman,serif\" font-size=\"14.00\" text-anchor=\"middle\" x=\"1076\" y=\"-364.8\">value = [519, 1793, 1422, 834]</text>\n",
       "<text font-family=\"Times New Roman,serif\" font-size=\"14.00\" text-anchor=\"middle\" x=\"1076\" y=\"-349.8\">class = Intermediate</text>\n",
       "</g>\n",
       "<!-- 0&#45;&gt;1 -->\n",
       "<g class=\"edge\" id=\"edge1\"><title>0-&gt;1</title>\n",
       "<path d=\"M1311.78,-463.998C1273.95,-451.243 1231.56,-436.952 1193.28,-424.043\" fill=\"none\" stroke=\"black\"/>\n",
       "<polygon fill=\"black\" points=\"1194.23,-420.671 1183.64,-420.792 1191.99,-427.304 1194.23,-420.671\" stroke=\"black\"/>\n",
       "<text font-family=\"Times New Roman,serif\" font-size=\"14.00\" text-anchor=\"middle\" x=\"1194.74\" y=\"-439.491\">True</text>\n",
       "</g>\n",
       "<!-- 16 -->\n",
       "<g class=\"node\" id=\"node17\"><title>16</title>\n",
       "<polygon fill=\"#eda7f3\" points=\"1846.5,-425 1679.5,-425 1679.5,-342 1846.5,-342 1846.5,-425\" stroke=\"black\"/>\n",
       "<text font-family=\"Times New Roman,serif\" font-size=\"14.00\" text-anchor=\"middle\" x=\"1763\" y=\"-409.8\">sponsored &lt;= 0.5</text>\n",
       "<text font-family=\"Times New Roman,serif\" font-size=\"14.00\" text-anchor=\"middle\" x=\"1763\" y=\"-394.8\">gini = 0.517</text>\n",
       "<text font-family=\"Times New Roman,serif\" font-size=\"14.00\" text-anchor=\"middle\" x=\"1763\" y=\"-379.8\">samples = 2726</text>\n",
       "<text font-family=\"Times New Roman,serif\" font-size=\"14.00\" text-anchor=\"middle\" x=\"1763\" y=\"-364.8\">value = [1, 194, 850, 1681]</text>\n",
       "<text font-family=\"Times New Roman,serif\" font-size=\"14.00\" text-anchor=\"middle\" x=\"1763\" y=\"-349.8\">class = World Class</text>\n",
       "</g>\n",
       "<!-- 0&#45;&gt;16 -->\n",
       "<g class=\"edge\" id=\"edge16\"><title>0-&gt;16</title>\n",
       "<path d=\"M1534.33,-463.19C1578.17,-448.104 1627.94,-430.976 1669.83,-416.56\" fill=\"none\" stroke=\"black\"/>\n",
       "<polygon fill=\"black\" points=\"1671.16,-419.807 1679.47,-413.243 1668.88,-413.188 1671.16,-419.807\" stroke=\"black\"/>\n",
       "<text font-family=\"Times New Roman,serif\" font-size=\"14.00\" text-anchor=\"middle\" x=\"1668.51\" y=\"-432.011\">False</text>\n",
       "</g>\n",
       "<!-- 2 -->\n",
       "<g class=\"node\" id=\"node3\"><title>2</title>\n",
       "<polygon fill=\"#c3f6be\" points=\"635.5,-306 426.5,-306 426.5,-223 635.5,-223 635.5,-306\" stroke=\"black\"/>\n",
       "<text font-family=\"Times New Roman,serif\" font-size=\"14.00\" text-anchor=\"middle\" x=\"531\" y=\"-290.8\">number_of_logged_climbs &lt;= 5.5</text>\n",
       "<text font-family=\"Times New Roman,serif\" font-size=\"14.00\" text-anchor=\"middle\" x=\"531\" y=\"-275.8\">gini = 0.67</text>\n",
       "<text font-family=\"Times New Roman,serif\" font-size=\"14.00\" text-anchor=\"middle\" x=\"531\" y=\"-260.8\">samples = 2003</text>\n",
       "<text font-family=\"Times New Roman,serif\" font-size=\"14.00\" text-anchor=\"middle\" x=\"531\" y=\"-245.8\">value = [452, 961, 399, 191]</text>\n",
       "<text font-family=\"Times New Roman,serif\" font-size=\"14.00\" text-anchor=\"middle\" x=\"531\" y=\"-230.8\">class = Intermediate</text>\n",
       "</g>\n",
       "<!-- 1&#45;&gt;2 -->\n",
       "<g class=\"edge\" id=\"edge2\"><title>1-&gt;2</title>\n",
       "<path d=\"M968.326,-359.385C875.146,-339.381 740.782,-310.536 645.625,-290.108\" fill=\"none\" stroke=\"black\"/>\n",
       "<polygon fill=\"black\" points=\"646.185,-286.648 635.673,-287.971 644.716,-293.492 646.185,-286.648\" stroke=\"black\"/>\n",
       "</g>\n",
       "<!-- 9 -->\n",
       "<g class=\"node\" id=\"node10\"><title>9</title>\n",
       "<polygon fill=\"#e9f4fc\" points=\"1162.5,-306 989.5,-306 989.5,-223 1162.5,-223 1162.5,-306\" stroke=\"black\"/>\n",
       "<text font-family=\"Times New Roman,serif\" font-size=\"14.00\" text-anchor=\"middle\" x=\"1076\" y=\"-290.8\">years_climbing &lt;= 19.5</text>\n",
       "<text font-family=\"Times New Roman,serif\" font-size=\"14.00\" text-anchor=\"middle\" x=\"1076\" y=\"-275.8\">gini = 0.672</text>\n",
       "<text font-family=\"Times New Roman,serif\" font-size=\"14.00\" text-anchor=\"middle\" x=\"1076\" y=\"-260.8\">samples = 2565</text>\n",
       "<text font-family=\"Times New Roman,serif\" font-size=\"14.00\" text-anchor=\"middle\" x=\"1076\" y=\"-245.8\">value = [67, 832, 1023, 643]</text>\n",
       "<text font-family=\"Times New Roman,serif\" font-size=\"14.00\" text-anchor=\"middle\" x=\"1076\" y=\"-230.8\">class = Advanced</text>\n",
       "</g>\n",
       "<!-- 1&#45;&gt;9 -->\n",
       "<g class=\"edge\" id=\"edge9\"><title>1-&gt;9</title>\n",
       "<path d=\"M1076,-341.907C1076,-333.649 1076,-324.864 1076,-316.302\" fill=\"none\" stroke=\"black\"/>\n",
       "<polygon fill=\"black\" points=\"1079.5,-316.021 1076,-306.021 1072.5,-316.021 1079.5,-316.021\" stroke=\"black\"/>\n",
       "</g>\n",
       "<!-- 3 -->\n",
       "<g class=\"node\" id=\"node4\"><title>3</title>\n",
       "<polygon fill=\"#e2fbe0\" points=\"338.5,-187 171.5,-187 171.5,-104 338.5,-104 338.5,-187\" stroke=\"black\"/>\n",
       "<text font-family=\"Times New Roman,serif\" font-size=\"14.00\" text-anchor=\"middle\" x=\"255\" y=\"-171.8\">years_climbing &lt;= 19.5</text>\n",
       "<text font-family=\"Times New Roman,serif\" font-size=\"14.00\" text-anchor=\"middle\" x=\"255\" y=\"-156.8\">gini = 0.646</text>\n",
       "<text font-family=\"Times New Roman,serif\" font-size=\"14.00\" text-anchor=\"middle\" x=\"255\" y=\"-141.8\">samples = 844</text>\n",
       "<text font-family=\"Times New Roman,serif\" font-size=\"14.00\" text-anchor=\"middle\" x=\"255\" y=\"-126.8\">value = [300, 385, 103, 56]</text>\n",
       "<text font-family=\"Times New Roman,serif\" font-size=\"14.00\" text-anchor=\"middle\" x=\"255\" y=\"-111.8\">class = Intermediate</text>\n",
       "</g>\n",
       "<!-- 2&#45;&gt;3 -->\n",
       "<g class=\"edge\" id=\"edge3\"><title>2-&gt;3</title>\n",
       "<path d=\"M435.243,-222.907C406.987,-210.929 376.116,-197.843 348.034,-185.938\" fill=\"none\" stroke=\"black\"/>\n",
       "<polygon fill=\"black\" points=\"349.198,-182.63 338.625,-181.95 346.466,-189.075 349.198,-182.63\" stroke=\"black\"/>\n",
       "</g>\n",
       "<!-- 6 -->\n",
       "<g class=\"node\" id=\"node7\"><title>6</title>\n",
       "<polygon fill=\"#c3f7bf\" points=\"617.5,-187 444.5,-187 444.5,-104 617.5,-104 617.5,-187\" stroke=\"black\"/>\n",
       "<text font-family=\"Times New Roman,serif\" font-size=\"14.00\" text-anchor=\"middle\" x=\"531\" y=\"-171.8\">years_climbing &lt;= 16.5</text>\n",
       "<text font-family=\"Times New Roman,serif\" font-size=\"14.00\" text-anchor=\"middle\" x=\"531\" y=\"-156.8\">gini = 0.657</text>\n",
       "<text font-family=\"Times New Roman,serif\" font-size=\"14.00\" text-anchor=\"middle\" x=\"531\" y=\"-141.8\">samples = 1159</text>\n",
       "<text font-family=\"Times New Roman,serif\" font-size=\"14.00\" text-anchor=\"middle\" x=\"531\" y=\"-126.8\">value = [152, 576, 296, 135]</text>\n",
       "<text font-family=\"Times New Roman,serif\" font-size=\"14.00\" text-anchor=\"middle\" x=\"531\" y=\"-111.8\">class = Intermediate</text>\n",
       "</g>\n",
       "<!-- 2&#45;&gt;6 -->\n",
       "<g class=\"edge\" id=\"edge6\"><title>2-&gt;6</title>\n",
       "<path d=\"M531,-222.907C531,-214.649 531,-205.864 531,-197.302\" fill=\"none\" stroke=\"black\"/>\n",
       "<polygon fill=\"black\" points=\"534.5,-197.021 531,-187.021 527.5,-197.021 534.5,-197.021\" stroke=\"black\"/>\n",
       "</g>\n",
       "<!-- 4 -->\n",
       "<g class=\"node\" id=\"node5\"><title>4</title>\n",
       "<polygon fill=\"#f9fef8\" points=\"160,-68 0,-68 0,-0 160,-0 160,-68\" stroke=\"black\"/>\n",
       "<text font-family=\"Times New Roman,serif\" font-size=\"14.00\" text-anchor=\"middle\" x=\"80\" y=\"-52.8\">gini = 0.616</text>\n",
       "<text font-family=\"Times New Roman,serif\" font-size=\"14.00\" text-anchor=\"middle\" x=\"80\" y=\"-37.8\">samples = 623</text>\n",
       "<text font-family=\"Times New Roman,serif\" font-size=\"14.00\" text-anchor=\"middle\" x=\"80\" y=\"-22.8\">value = [263, 275, 60, 25]</text>\n",
       "<text font-family=\"Times New Roman,serif\" font-size=\"14.00\" text-anchor=\"middle\" x=\"80\" y=\"-7.8\">class = Intermediate</text>\n",
       "</g>\n",
       "<!-- 3&#45;&gt;4 -->\n",
       "<g class=\"edge\" id=\"edge4\"><title>3-&gt;4</title>\n",
       "<path d=\"M189.836,-103.726C174.012,-93.8245 157.142,-83.269 141.494,-73.4774\" fill=\"none\" stroke=\"black\"/>\n",
       "<polygon fill=\"black\" points=\"143.274,-70.4625 132.94,-68.1252 139.561,-76.3966 143.274,-70.4625\" stroke=\"black\"/>\n",
       "</g>\n",
       "<!-- 5 -->\n",
       "<g class=\"node\" id=\"node6\"><title>5</title>\n",
       "<polygon fill=\"#baf5b4\" points=\"331.5,-68 178.5,-68 178.5,-0 331.5,-0 331.5,-68\" stroke=\"black\"/>\n",
       "<text font-family=\"Times New Roman,serif\" font-size=\"14.00\" text-anchor=\"middle\" x=\"255\" y=\"-52.8\">gini = 0.667</text>\n",
       "<text font-family=\"Times New Roman,serif\" font-size=\"14.00\" text-anchor=\"middle\" x=\"255\" y=\"-37.8\">samples = 221</text>\n",
       "<text font-family=\"Times New Roman,serif\" font-size=\"14.00\" text-anchor=\"middle\" x=\"255\" y=\"-22.8\">value = [37, 110, 43, 31]</text>\n",
       "<text font-family=\"Times New Roman,serif\" font-size=\"14.00\" text-anchor=\"middle\" x=\"255\" y=\"-7.8\">class = Intermediate</text>\n",
       "</g>\n",
       "<!-- 3&#45;&gt;5 -->\n",
       "<g class=\"edge\" id=\"edge5\"><title>3-&gt;5</title>\n",
       "<path d=\"M255,-103.726C255,-95.5175 255,-86.8595 255,-78.56\" fill=\"none\" stroke=\"black\"/>\n",
       "<polygon fill=\"black\" points=\"258.5,-78.2996 255,-68.2996 251.5,-78.2996 258.5,-78.2996\" stroke=\"black\"/>\n",
       "</g>\n",
       "<!-- 7 -->\n",
       "<g class=\"node\" id=\"node8\"><title>7</title>\n",
       "<polygon fill=\"#b3f4ad\" points=\"516.5,-68 349.5,-68 349.5,-0 516.5,-0 516.5,-68\" stroke=\"black\"/>\n",
       "<text font-family=\"Times New Roman,serif\" font-size=\"14.00\" text-anchor=\"middle\" x=\"433\" y=\"-52.8\">gini = 0.614</text>\n",
       "<text font-family=\"Times New Roman,serif\" font-size=\"14.00\" text-anchor=\"middle\" x=\"433\" y=\"-37.8\">samples = 622</text>\n",
       "<text font-family=\"Times New Roman,serif\" font-size=\"14.00\" text-anchor=\"middle\" x=\"433\" y=\"-22.8\">value = [113, 340, 142, 27]</text>\n",
       "<text font-family=\"Times New Roman,serif\" font-size=\"14.00\" text-anchor=\"middle\" x=\"433\" y=\"-7.8\">class = Intermediate</text>\n",
       "</g>\n",
       "<!-- 6&#45;&gt;7 -->\n",
       "<g class=\"edge\" id=\"edge7\"><title>6-&gt;7</title>\n",
       "<path d=\"M494.508,-103.726C486.345,-94.6054 477.686,-84.93 469.522,-75.8078\" fill=\"none\" stroke=\"black\"/>\n",
       "<polygon fill=\"black\" points=\"472.079,-73.417 462.802,-68.2996 466.863,-78.0853 472.079,-73.417\" stroke=\"black\"/>\n",
       "</g>\n",
       "<!-- 8 -->\n",
       "<g class=\"node\" id=\"node9\"><title>8</title>\n",
       "<polygon fill=\"#d8f9d5\" points=\"701.5,-68 534.5,-68 534.5,-0 701.5,-0 701.5,-68\" stroke=\"black\"/>\n",
       "<text font-family=\"Times New Roman,serif\" font-size=\"14.00\" text-anchor=\"middle\" x=\"618\" y=\"-52.8\">gini = 0.679</text>\n",
       "<text font-family=\"Times New Roman,serif\" font-size=\"14.00\" text-anchor=\"middle\" x=\"618\" y=\"-37.8\">samples = 537</text>\n",
       "<text font-family=\"Times New Roman,serif\" font-size=\"14.00\" text-anchor=\"middle\" x=\"618\" y=\"-22.8\">value = [39, 236, 154, 108]</text>\n",
       "<text font-family=\"Times New Roman,serif\" font-size=\"14.00\" text-anchor=\"middle\" x=\"618\" y=\"-7.8\">class = Intermediate</text>\n",
       "</g>\n",
       "<!-- 6&#45;&gt;8 -->\n",
       "<g class=\"edge\" id=\"edge8\"><title>6-&gt;8</title>\n",
       "<path d=\"M563.396,-103.726C570.497,-94.7878 578.022,-85.3168 585.142,-76.3558\" fill=\"none\" stroke=\"black\"/>\n",
       "<polygon fill=\"black\" points=\"588.062,-78.3065 591.543,-68.2996 582.582,-73.9519 588.062,-78.3065\" stroke=\"black\"/>\n",
       "</g>\n",
       "<!-- 10 -->\n",
       "<g class=\"node\" id=\"node11\"><title>10</title>\n",
       "<polygon fill=\"#f8fcfe\" points=\"1078.5,-187 863.5,-187 863.5,-104 1078.5,-104 1078.5,-187\" stroke=\"black\"/>\n",
       "<text font-family=\"Times New Roman,serif\" font-size=\"14.00\" text-anchor=\"middle\" x=\"971\" y=\"-171.8\">number_of_logged_climbs &lt;= 51.5</text>\n",
       "<text font-family=\"Times New Roman,serif\" font-size=\"14.00\" text-anchor=\"middle\" x=\"971\" y=\"-156.8\">gini = 0.656</text>\n",
       "<text font-family=\"Times New Roman,serif\" font-size=\"14.00\" text-anchor=\"middle\" x=\"971\" y=\"-141.8\">samples = 1650</text>\n",
       "<text font-family=\"Times New Roman,serif\" font-size=\"14.00\" text-anchor=\"middle\" x=\"971\" y=\"-126.8\">value = [53, 632, 667, 298]</text>\n",
       "<text font-family=\"Times New Roman,serif\" font-size=\"14.00\" text-anchor=\"middle\" x=\"971\" y=\"-111.8\">class = Advanced</text>\n",
       "</g>\n",
       "<!-- 9&#45;&gt;10 -->\n",
       "<g class=\"edge\" id=\"edge10\"><title>9-&gt;10</title>\n",
       "<path d=\"M1039.57,-222.907C1031.35,-213.742 1022.54,-203.927 1014.07,-194.489\" fill=\"none\" stroke=\"black\"/>\n",
       "<polygon fill=\"black\" points=\"1016.65,-192.126 1007.36,-187.021 1011.44,-196.801 1016.65,-192.126\" stroke=\"black\"/>\n",
       "</g>\n",
       "<!-- 13 -->\n",
       "<g class=\"node\" id=\"node14\"><title>13</title>\n",
       "<polygon fill=\"#fbfdfe\" points=\"1263.5,-187 1096.5,-187 1096.5,-104 1263.5,-104 1263.5,-187\" stroke=\"black\"/>\n",
       "<text font-family=\"Times New Roman,serif\" font-size=\"14.00\" text-anchor=\"middle\" x=\"1180\" y=\"-171.8\">sponsored &lt;= 0.5</text>\n",
       "<text font-family=\"Times New Roman,serif\" font-size=\"14.00\" text-anchor=\"middle\" x=\"1180\" y=\"-156.8\">gini = 0.658</text>\n",
       "<text font-family=\"Times New Roman,serif\" font-size=\"14.00\" text-anchor=\"middle\" x=\"1180\" y=\"-141.8\">samples = 915</text>\n",
       "<text font-family=\"Times New Roman,serif\" font-size=\"14.00\" text-anchor=\"middle\" x=\"1180\" y=\"-126.8\">value = [14, 200, 356, 345]</text>\n",
       "<text font-family=\"Times New Roman,serif\" font-size=\"14.00\" text-anchor=\"middle\" x=\"1180\" y=\"-111.8\">class = Advanced</text>\n",
       "</g>\n",
       "<!-- 9&#45;&gt;13 -->\n",
       "<g class=\"edge\" id=\"edge13\"><title>9-&gt;13</title>\n",
       "<path d=\"M1112.08,-222.907C1120.15,-213.832 1128.78,-204.121 1137.09,-194.769\" fill=\"none\" stroke=\"black\"/>\n",
       "<polygon fill=\"black\" points=\"1139.95,-196.82 1143.98,-187.021 1134.72,-192.17 1139.95,-196.82\" stroke=\"black\"/>\n",
       "</g>\n",
       "<!-- 11 -->\n",
       "<g class=\"node\" id=\"node12\"><title>11</title>\n",
       "<polygon fill=\"#eafce8\" points=\"886.5,-68 719.5,-68 719.5,-0 886.5,-0 886.5,-68\" stroke=\"black\"/>\n",
       "<text font-family=\"Times New Roman,serif\" font-size=\"14.00\" text-anchor=\"middle\" x=\"803\" y=\"-52.8\">gini = 0.645</text>\n",
       "<text font-family=\"Times New Roman,serif\" font-size=\"14.00\" text-anchor=\"middle\" x=\"803\" y=\"-37.8\">samples = 939</text>\n",
       "<text font-family=\"Times New Roman,serif\" font-size=\"14.00\" text-anchor=\"middle\" x=\"803\" y=\"-22.8\">value = [45, 416, 348, 130]</text>\n",
       "<text font-family=\"Times New Roman,serif\" font-size=\"14.00\" text-anchor=\"middle\" x=\"803\" y=\"-7.8\">class = Intermediate</text>\n",
       "</g>\n",
       "<!-- 10&#45;&gt;11 -->\n",
       "<g class=\"edge\" id=\"edge11\"><title>10-&gt;11</title>\n",
       "<path d=\"M908.443,-103.726C893.392,-93.9161 877.356,-83.4644 862.451,-73.7496\" fill=\"none\" stroke=\"black\"/>\n",
       "<polygon fill=\"black\" points=\"864.111,-70.6535 853.822,-68.1252 860.289,-76.5178 864.111,-70.6535\" stroke=\"black\"/>\n",
       "</g>\n",
       "<!-- 12 -->\n",
       "<g class=\"node\" id=\"node13\"><title>12</title>\n",
       "<polygon fill=\"#d6ebfa\" points=\"1065,-68 905,-68 905,-0 1065,-0 1065,-68\" stroke=\"black\"/>\n",
       "<text font-family=\"Times New Roman,serif\" font-size=\"14.00\" text-anchor=\"middle\" x=\"985\" y=\"-52.8\">gini = 0.65</text>\n",
       "<text font-family=\"Times New Roman,serif\" font-size=\"14.00\" text-anchor=\"middle\" x=\"985\" y=\"-37.8\">samples = 711</text>\n",
       "<text font-family=\"Times New Roman,serif\" font-size=\"14.00\" text-anchor=\"middle\" x=\"985\" y=\"-22.8\">value = [8, 216, 319, 168]</text>\n",
       "<text font-family=\"Times New Roman,serif\" font-size=\"14.00\" text-anchor=\"middle\" x=\"985\" y=\"-7.8\">class = Advanced</text>\n",
       "</g>\n",
       "<!-- 10&#45;&gt;12 -->\n",
       "<g class=\"edge\" id=\"edge12\"><title>10-&gt;12</title>\n",
       "<path d=\"M976.213,-103.726C977.274,-95.4263 978.394,-86.6671 979.466,-78.2834\" fill=\"none\" stroke=\"black\"/>\n",
       "<polygon fill=\"black\" points=\"982.946,-78.6628 980.743,-68.2996 976.002,-77.7749 982.946,-78.6628\" stroke=\"black\"/>\n",
       "</g>\n",
       "<!-- 14 -->\n",
       "<g class=\"node\" id=\"node15\"><title>14</title>\n",
       "<polygon fill=\"#e3f1fb\" points=\"1250.5,-68 1083.5,-68 1083.5,-0 1250.5,-0 1250.5,-68\" stroke=\"black\"/>\n",
       "<text font-family=\"Times New Roman,serif\" font-size=\"14.00\" text-anchor=\"middle\" x=\"1167\" y=\"-52.8\">gini = 0.667</text>\n",
       "<text font-family=\"Times New Roman,serif\" font-size=\"14.00\" text-anchor=\"middle\" x=\"1167\" y=\"-37.8\">samples = 617</text>\n",
       "<text font-family=\"Times New Roman,serif\" font-size=\"14.00\" text-anchor=\"middle\" x=\"1167\" y=\"-22.8\">value = [12, 158, 253, 194]</text>\n",
       "<text font-family=\"Times New Roman,serif\" font-size=\"14.00\" text-anchor=\"middle\" x=\"1167\" y=\"-7.8\">class = Advanced</text>\n",
       "</g>\n",
       "<!-- 13&#45;&gt;14 -->\n",
       "<g class=\"edge\" id=\"edge14\"><title>13-&gt;14</title>\n",
       "<path d=\"M1175.16,-103.726C1174.17,-95.4263 1173.13,-86.6671 1172.14,-78.2834\" fill=\"none\" stroke=\"black\"/>\n",
       "<polygon fill=\"black\" points=\"1175.61,-77.8172 1170.95,-68.2996 1168.66,-78.6425 1175.61,-77.8172\" stroke=\"black\"/>\n",
       "</g>\n",
       "<!-- 15 -->\n",
       "<g class=\"node\" id=\"node16\"><title>15</title>\n",
       "<polygon fill=\"#f5cef9\" points=\"1421.5,-68 1268.5,-68 1268.5,-0 1421.5,-0 1421.5,-68\" stroke=\"black\"/>\n",
       "<text font-family=\"Times New Roman,serif\" font-size=\"14.00\" text-anchor=\"middle\" x=\"1345\" y=\"-52.8\">gini = 0.604</text>\n",
       "<text font-family=\"Times New Roman,serif\" font-size=\"14.00\" text-anchor=\"middle\" x=\"1345\" y=\"-37.8\">samples = 298</text>\n",
       "<text font-family=\"Times New Roman,serif\" font-size=\"14.00\" text-anchor=\"middle\" x=\"1345\" y=\"-22.8\">value = [2, 42, 103, 151]</text>\n",
       "<text font-family=\"Times New Roman,serif\" font-size=\"14.00\" text-anchor=\"middle\" x=\"1345\" y=\"-7.8\">class = World Class</text>\n",
       "</g>\n",
       "<!-- 13&#45;&gt;15 -->\n",
       "<g class=\"edge\" id=\"edge15\"><title>13-&gt;15</title>\n",
       "<path d=\"M1241.44,-103.726C1256.22,-93.9161 1271.97,-83.4644 1286.61,-73.7496\" fill=\"none\" stroke=\"black\"/>\n",
       "<polygon fill=\"black\" points=\"1288.69,-76.571 1295.09,-68.1252 1284.82,-70.7385 1288.69,-76.571\" stroke=\"black\"/>\n",
       "</g>\n",
       "<!-- 17 -->\n",
       "<g class=\"node\" id=\"node18\"><title>17</title>\n",
       "<polygon fill=\"#f6d4f9\" points=\"1874,-306 1652,-306 1652,-223 1874,-223 1874,-306\" stroke=\"black\"/>\n",
       "<text font-family=\"Times New Roman,serif\" font-size=\"14.00\" text-anchor=\"middle\" x=\"1763\" y=\"-290.8\">number_of_logged_climbs &lt;= 239.5</text>\n",
       "<text font-family=\"Times New Roman,serif\" font-size=\"14.00\" text-anchor=\"middle\" x=\"1763\" y=\"-275.8\">gini = 0.573</text>\n",
       "<text font-family=\"Times New Roman,serif\" font-size=\"14.00\" text-anchor=\"middle\" x=\"1763\" y=\"-260.8\">samples = 1593</text>\n",
       "<text font-family=\"Times New Roman,serif\" font-size=\"14.00\" text-anchor=\"middle\" x=\"1763\" y=\"-245.8\">value = [1, 151, 613, 828]</text>\n",
       "<text font-family=\"Times New Roman,serif\" font-size=\"14.00\" text-anchor=\"middle\" x=\"1763\" y=\"-230.8\">class = World Class</text>\n",
       "</g>\n",
       "<!-- 16&#45;&gt;17 -->\n",
       "<g class=\"edge\" id=\"edge17\"><title>16-&gt;17</title>\n",
       "<path d=\"M1763,-341.907C1763,-333.649 1763,-324.864 1763,-316.302\" fill=\"none\" stroke=\"black\"/>\n",
       "<polygon fill=\"black\" points=\"1766.5,-316.021 1763,-306.021 1759.5,-316.021 1766.5,-316.021\" stroke=\"black\"/>\n",
       "</g>\n",
       "<!-- 24 -->\n",
       "<g class=\"node\" id=\"node25\"><title>24</title>\n",
       "<polygon fill=\"#e477ed\" points=\"2351,-306 2129,-306 2129,-223 2351,-223 2351,-306\" stroke=\"black\"/>\n",
       "<text font-family=\"Times New Roman,serif\" font-size=\"14.00\" text-anchor=\"middle\" x=\"2240\" y=\"-290.8\">number_of_logged_climbs &lt;= 254.5</text>\n",
       "<text font-family=\"Times New Roman,serif\" font-size=\"14.00\" text-anchor=\"middle\" x=\"2240\" y=\"-275.8\">gini = 0.388</text>\n",
       "<text font-family=\"Times New Roman,serif\" font-size=\"14.00\" text-anchor=\"middle\" x=\"2240\" y=\"-260.8\">samples = 1133</text>\n",
       "<text font-family=\"Times New Roman,serif\" font-size=\"14.00\" text-anchor=\"middle\" x=\"2240\" y=\"-245.8\">value = [0, 43, 237, 853]</text>\n",
       "<text font-family=\"Times New Roman,serif\" font-size=\"14.00\" text-anchor=\"middle\" x=\"2240\" y=\"-230.8\">class = World Class</text>\n",
       "</g>\n",
       "<!-- 16&#45;&gt;24 -->\n",
       "<g class=\"edge\" id=\"edge24\"><title>16-&gt;24</title>\n",
       "<path d=\"M1846.63,-361.986C1922.01,-343.496 2033.76,-316.087 2118.91,-295.202\" fill=\"none\" stroke=\"black\"/>\n",
       "<polygon fill=\"black\" points=\"2119.75,-298.599 2128.63,-292.817 2118.08,-291.8 2119.75,-298.599\" stroke=\"black\"/>\n",
       "</g>\n",
       "<!-- 18 -->\n",
       "<g class=\"node\" id=\"node19\"><title>18</title>\n",
       "<polygon fill=\"#f4fafe\" points=\"1756,-187 1596,-187 1596,-104 1756,-104 1756,-187\" stroke=\"black\"/>\n",
       "<text font-family=\"Times New Roman,serif\" font-size=\"14.00\" text-anchor=\"middle\" x=\"1676\" y=\"-171.8\">weight &lt;= 75.5</text>\n",
       "<text font-family=\"Times New Roman,serif\" font-size=\"14.00\" text-anchor=\"middle\" x=\"1676\" y=\"-156.8\">gini = 0.611</text>\n",
       "<text font-family=\"Times New Roman,serif\" font-size=\"14.00\" text-anchor=\"middle\" x=\"1676\" y=\"-141.8\">samples = 781</text>\n",
       "<text font-family=\"Times New Roman,serif\" font-size=\"14.00\" text-anchor=\"middle\" x=\"1676\" y=\"-126.8\">value = [1, 109, 348, 323]</text>\n",
       "<text font-family=\"Times New Roman,serif\" font-size=\"14.00\" text-anchor=\"middle\" x=\"1676\" y=\"-111.8\">class = Advanced</text>\n",
       "</g>\n",
       "<!-- 17&#45;&gt;18 -->\n",
       "<g class=\"edge\" id=\"edge18\"><title>17-&gt;18</title>\n",
       "<path d=\"M1732.82,-222.907C1726.14,-213.923 1718.99,-204.315 1712.1,-195.05\" fill=\"none\" stroke=\"black\"/>\n",
       "<polygon fill=\"black\" points=\"1714.91,-192.957 1706.13,-187.021 1709.29,-197.134 1714.91,-192.957\" stroke=\"black\"/>\n",
       "</g>\n",
       "<!-- 21 -->\n",
       "<g class=\"node\" id=\"node22\"><title>21</title>\n",
       "<polygon fill=\"#eda8f4\" points=\"1927.5,-187 1774.5,-187 1774.5,-104 1927.5,-104 1927.5,-187\" stroke=\"black\"/>\n",
       "<text font-family=\"Times New Roman,serif\" font-size=\"14.00\" text-anchor=\"middle\" x=\"1851\" y=\"-171.8\">SWE_x &lt;= 0.5</text>\n",
       "<text font-family=\"Times New Roman,serif\" font-size=\"14.00\" text-anchor=\"middle\" x=\"1851\" y=\"-156.8\">gini = 0.504</text>\n",
       "<text font-family=\"Times New Roman,serif\" font-size=\"14.00\" text-anchor=\"middle\" x=\"1851\" y=\"-141.8\">samples = 812</text>\n",
       "<text font-family=\"Times New Roman,serif\" font-size=\"14.00\" text-anchor=\"middle\" x=\"1851\" y=\"-126.8\">value = [0, 42, 265, 505]</text>\n",
       "<text font-family=\"Times New Roman,serif\" font-size=\"14.00\" text-anchor=\"middle\" x=\"1851\" y=\"-111.8\">class = World Class</text>\n",
       "</g>\n",
       "<!-- 17&#45;&gt;21 -->\n",
       "<g class=\"edge\" id=\"edge21\"><title>17-&gt;21</title>\n",
       "<path d=\"M1793.53,-222.907C1800.29,-213.923 1807.52,-204.315 1814.48,-195.05\" fill=\"none\" stroke=\"black\"/>\n",
       "<polygon fill=\"black\" points=\"1817.31,-197.116 1820.52,-187.021 1811.71,-192.909 1817.31,-197.116\" stroke=\"black\"/>\n",
       "</g>\n",
       "<!-- 19 -->\n",
       "<g class=\"node\" id=\"node20\"><title>19</title>\n",
       "<polygon fill=\"#fdf3fd\" points=\"1592.5,-68 1439.5,-68 1439.5,-0 1592.5,-0 1592.5,-68\" stroke=\"black\"/>\n",
       "<text font-family=\"Times New Roman,serif\" font-size=\"14.00\" text-anchor=\"middle\" x=\"1516\" y=\"-52.8\">gini = 0.602</text>\n",
       "<text font-family=\"Times New Roman,serif\" font-size=\"14.00\" text-anchor=\"middle\" x=\"1516\" y=\"-37.8\">samples = 616</text>\n",
       "<text font-family=\"Times New Roman,serif\" font-size=\"14.00\" text-anchor=\"middle\" x=\"1516\" y=\"-22.8\">value = [0, 78, 258, 280]</text>\n",
       "<text font-family=\"Times New Roman,serif\" font-size=\"14.00\" text-anchor=\"middle\" x=\"1516\" y=\"-7.8\">class = World Class</text>\n",
       "</g>\n",
       "<!-- 18&#45;&gt;19 -->\n",
       "<g class=\"edge\" id=\"edge19\"><title>18-&gt;19</title>\n",
       "<path d=\"M1616.42,-103.726C1602.22,-94.0078 1587.1,-83.6597 1573.02,-74.0222\" fill=\"none\" stroke=\"black\"/>\n",
       "<polygon fill=\"black\" points=\"1574.63,-70.8846 1564.4,-68.1252 1570.68,-76.6614 1574.63,-70.8846\" stroke=\"black\"/>\n",
       "</g>\n",
       "<!-- 20 -->\n",
       "<g class=\"node\" id=\"node21\"><title>20</title>\n",
       "<polygon fill=\"#b3d9f5\" points=\"1751,-68 1611,-68 1611,-0 1751,-0 1751,-68\" stroke=\"black\"/>\n",
       "<text font-family=\"Times New Roman,serif\" font-size=\"14.00\" text-anchor=\"middle\" x=\"1681\" y=\"-52.8\">gini = 0.599</text>\n",
       "<text font-family=\"Times New Roman,serif\" font-size=\"14.00\" text-anchor=\"middle\" x=\"1681\" y=\"-37.8\">samples = 165</text>\n",
       "<text font-family=\"Times New Roman,serif\" font-size=\"14.00\" text-anchor=\"middle\" x=\"1681\" y=\"-22.8\">value = [1, 31, 90, 43]</text>\n",
       "<text font-family=\"Times New Roman,serif\" font-size=\"14.00\" text-anchor=\"middle\" x=\"1681\" y=\"-7.8\">class = Advanced</text>\n",
       "</g>\n",
       "<!-- 18&#45;&gt;20 -->\n",
       "<g class=\"edge\" id=\"edge20\"><title>18-&gt;20</title>\n",
       "<path d=\"M1677.86,-103.726C1678.24,-95.5175 1678.63,-86.8595 1679.01,-78.56\" fill=\"none\" stroke=\"black\"/>\n",
       "<polygon fill=\"black\" points=\"1682.52,-78.4489 1679.48,-68.2996 1675.53,-78.1295 1682.52,-78.4489\" stroke=\"black\"/>\n",
       "</g>\n",
       "<!-- 22 -->\n",
       "<g class=\"node\" id=\"node23\"><title>22</title>\n",
       "<polygon fill=\"#eca1f3\" points=\"1922.5,-68 1769.5,-68 1769.5,-0 1922.5,-0 1922.5,-68\" stroke=\"black\"/>\n",
       "<text font-family=\"Times New Roman,serif\" font-size=\"14.00\" text-anchor=\"middle\" x=\"1846\" y=\"-52.8\">gini = 0.487</text>\n",
       "<text font-family=\"Times New Roman,serif\" font-size=\"14.00\" text-anchor=\"middle\" x=\"1846\" y=\"-37.8\">samples = 771</text>\n",
       "<text font-family=\"Times New Roman,serif\" font-size=\"14.00\" text-anchor=\"middle\" x=\"1846\" y=\"-22.8\">value = [0, 33, 244, 494]</text>\n",
       "<text font-family=\"Times New Roman,serif\" font-size=\"14.00\" text-anchor=\"middle\" x=\"1846\" y=\"-7.8\">class = World Class</text>\n",
       "</g>\n",
       "<!-- 21&#45;&gt;22 -->\n",
       "<g class=\"edge\" id=\"edge22\"><title>21-&gt;22</title>\n",
       "<path d=\"M1849.14,-103.726C1848.76,-95.5175 1848.37,-86.8595 1847.99,-78.56\" fill=\"none\" stroke=\"black\"/>\n",
       "<polygon fill=\"black\" points=\"1851.47,-78.1295 1847.52,-68.2996 1844.48,-78.4489 1851.47,-78.1295\" stroke=\"black\"/>\n",
       "</g>\n",
       "<!-- 23 -->\n",
       "<g class=\"node\" id=\"node24\"><title>23</title>\n",
       "<polygon fill=\"#bddef6\" points=\"2073.5,-68 1940.5,-68 1940.5,-0 2073.5,-0 2073.5,-68\" stroke=\"black\"/>\n",
       "<text font-family=\"Times New Roman,serif\" font-size=\"14.00\" text-anchor=\"middle\" x=\"2007\" y=\"-52.8\">gini = 0.617</text>\n",
       "<text font-family=\"Times New Roman,serif\" font-size=\"14.00\" text-anchor=\"middle\" x=\"2007\" y=\"-37.8\">samples = 41</text>\n",
       "<text font-family=\"Times New Roman,serif\" font-size=\"14.00\" text-anchor=\"middle\" x=\"2007\" y=\"-22.8\">value = [0, 9, 21, 11]</text>\n",
       "<text font-family=\"Times New Roman,serif\" font-size=\"14.00\" text-anchor=\"middle\" x=\"2007\" y=\"-7.8\">class = Advanced</text>\n",
       "</g>\n",
       "<!-- 21&#45;&gt;23 -->\n",
       "<g class=\"edge\" id=\"edge23\"><title>21-&gt;23</title>\n",
       "<path d=\"M1909.09,-103.726C1922.86,-94.0582 1937.52,-83.767 1951.19,-74.172\" fill=\"none\" stroke=\"black\"/>\n",
       "<polygon fill=\"black\" points=\"1953.39,-76.9096 1959.56,-68.2996 1949.36,-71.1801 1953.39,-76.9096\" stroke=\"black\"/>\n",
       "</g>\n",
       "<!-- 25 -->\n",
       "<g class=\"node\" id=\"node26\"><title>25</title>\n",
       "<polygon fill=\"#eb9cf2\" points=\"2316.5,-187 2163.5,-187 2163.5,-104 2316.5,-104 2316.5,-187\" stroke=\"black\"/>\n",
       "<text font-family=\"Times New Roman,serif\" font-size=\"14.00\" text-anchor=\"middle\" x=\"2240\" y=\"-171.8\">weight &lt;= 70.5</text>\n",
       "<text font-family=\"Times New Roman,serif\" font-size=\"14.00\" text-anchor=\"middle\" x=\"2240\" y=\"-156.8\">gini = 0.492</text>\n",
       "<text font-family=\"Times New Roman,serif\" font-size=\"14.00\" text-anchor=\"middle\" x=\"2240\" y=\"-141.8\">samples = 502</text>\n",
       "<text font-family=\"Times New Roman,serif\" font-size=\"14.00\" text-anchor=\"middle\" x=\"2240\" y=\"-126.8\">value = [0, 30, 147, 325]</text>\n",
       "<text font-family=\"Times New Roman,serif\" font-size=\"14.00\" text-anchor=\"middle\" x=\"2240\" y=\"-111.8\">class = World Class</text>\n",
       "</g>\n",
       "<!-- 24&#45;&gt;25 -->\n",
       "<g class=\"edge\" id=\"edge25\"><title>24-&gt;25</title>\n",
       "<path d=\"M2240,-222.907C2240,-214.649 2240,-205.864 2240,-197.302\" fill=\"none\" stroke=\"black\"/>\n",
       "<polygon fill=\"black\" points=\"2243.5,-197.021 2240,-187.021 2236.5,-197.021 2243.5,-197.021\" stroke=\"black\"/>\n",
       "</g>\n",
       "<!-- 28 -->\n",
       "<g class=\"node\" id=\"node29\"><title>28</title>\n",
       "<polygon fill=\"#df5fea\" points=\"2558.5,-187 2409.5,-187 2409.5,-104 2558.5,-104 2558.5,-187\" stroke=\"black\"/>\n",
       "<text font-family=\"Times New Roman,serif\" font-size=\"14.00\" text-anchor=\"middle\" x=\"2484\" y=\"-171.8\">years_climbing &lt;= 16.5</text>\n",
       "<text font-family=\"Times New Roman,serif\" font-size=\"14.00\" text-anchor=\"middle\" x=\"2484\" y=\"-156.8\">gini = 0.279</text>\n",
       "<text font-family=\"Times New Roman,serif\" font-size=\"14.00\" text-anchor=\"middle\" x=\"2484\" y=\"-141.8\">samples = 631</text>\n",
       "<text font-family=\"Times New Roman,serif\" font-size=\"14.00\" text-anchor=\"middle\" x=\"2484\" y=\"-126.8\">value = [0, 13, 90, 528]</text>\n",
       "<text font-family=\"Times New Roman,serif\" font-size=\"14.00\" text-anchor=\"middle\" x=\"2484\" y=\"-111.8\">class = World Class</text>\n",
       "</g>\n",
       "<!-- 24&#45;&gt;28 -->\n",
       "<g class=\"edge\" id=\"edge28\"><title>24-&gt;28</title>\n",
       "<path d=\"M2324.65,-222.907C2349.06,-211.203 2375.68,-198.439 2400.05,-186.755\" fill=\"none\" stroke=\"black\"/>\n",
       "<polygon fill=\"black\" points=\"2401.77,-189.814 2409.27,-182.334 2398.74,-183.502 2401.77,-189.814\" stroke=\"black\"/>\n",
       "</g>\n",
       "<!-- 26 -->\n",
       "<g class=\"node\" id=\"node27\"><title>26</title>\n",
       "<polygon fill=\"#e685ef\" points=\"2238,-68 2092,-68 2092,-0 2238,-0 2238,-68\" stroke=\"black\"/>\n",
       "<text font-family=\"Times New Roman,serif\" font-size=\"14.00\" text-anchor=\"middle\" x=\"2165\" y=\"-52.8\">gini = 0.436</text>\n",
       "<text font-family=\"Times New Roman,serif\" font-size=\"14.00\" text-anchor=\"middle\" x=\"2165\" y=\"-37.8\">samples = 343</text>\n",
       "<text font-family=\"Times New Roman,serif\" font-size=\"14.00\" text-anchor=\"middle\" x=\"2165\" y=\"-22.8\">value = [0, 16, 84, 243]</text>\n",
       "<text font-family=\"Times New Roman,serif\" font-size=\"14.00\" text-anchor=\"middle\" x=\"2165\" y=\"-7.8\">class = World Class</text>\n",
       "</g>\n",
       "<!-- 25&#45;&gt;26 -->\n",
       "<g class=\"edge\" id=\"edge26\"><title>25-&gt;26</title>\n",
       "<path d=\"M2212.07,-103.726C2206.01,-94.879 2199.6,-85.51 2193.51,-76.6303\" fill=\"none\" stroke=\"black\"/>\n",
       "<polygon fill=\"black\" points=\"2196.35,-74.5721 2187.81,-68.2996 2190.57,-78.5277 2196.35,-74.5721\" stroke=\"black\"/>\n",
       "</g>\n",
       "<!-- 27 -->\n",
       "<g class=\"node\" id=\"node28\"><title>27</title>\n",
       "<polygon fill=\"#f7d8fa\" points=\"2396,-68 2256,-68 2256,-0 2396,-0 2396,-68\" stroke=\"black\"/>\n",
       "<text font-family=\"Times New Roman,serif\" font-size=\"14.00\" text-anchor=\"middle\" x=\"2326\" y=\"-52.8\">gini = 0.569</text>\n",
       "<text font-family=\"Times New Roman,serif\" font-size=\"14.00\" text-anchor=\"middle\" x=\"2326\" y=\"-37.8\">samples = 159</text>\n",
       "<text font-family=\"Times New Roman,serif\" font-size=\"14.00\" text-anchor=\"middle\" x=\"2326\" y=\"-22.8\">value = [0, 14, 63, 82]</text>\n",
       "<text font-family=\"Times New Roman,serif\" font-size=\"14.00\" text-anchor=\"middle\" x=\"2326\" y=\"-7.8\">class = World Class</text>\n",
       "</g>\n",
       "<!-- 25&#45;&gt;27 -->\n",
       "<g class=\"edge\" id=\"edge27\"><title>25-&gt;27</title>\n",
       "<path d=\"M2272.02,-103.726C2279.04,-94.7878 2286.48,-85.3168 2293.52,-76.3558\" fill=\"none\" stroke=\"black\"/>\n",
       "<polygon fill=\"black\" points=\"2296.42,-78.3259 2299.85,-68.2996 2290.92,-74.0022 2296.42,-78.3259\" stroke=\"black\"/>\n",
       "</g>\n",
       "<!-- 29 -->\n",
       "<g class=\"node\" id=\"node30\"><title>29</title>\n",
       "<polygon fill=\"#e787ef\" points=\"2554,-68 2414,-68 2414,-0 2554,-0 2554,-68\" stroke=\"black\"/>\n",
       "<text font-family=\"Times New Roman,serif\" font-size=\"14.00\" text-anchor=\"middle\" x=\"2484\" y=\"-52.8\">gini = 0.436</text>\n",
       "<text font-family=\"Times New Roman,serif\" font-size=\"14.00\" text-anchor=\"middle\" x=\"2484\" y=\"-37.8\">samples = 173</text>\n",
       "<text font-family=\"Times New Roman,serif\" font-size=\"14.00\" text-anchor=\"middle\" x=\"2484\" y=\"-22.8\">value = [0, 7, 44, 122]</text>\n",
       "<text font-family=\"Times New Roman,serif\" font-size=\"14.00\" text-anchor=\"middle\" x=\"2484\" y=\"-7.8\">class = World Class</text>\n",
       "</g>\n",
       "<!-- 28&#45;&gt;29 -->\n",
       "<g class=\"edge\" id=\"edge29\"><title>28-&gt;29</title>\n",
       "<path d=\"M2484,-103.726C2484,-95.5175 2484,-86.8595 2484,-78.56\" fill=\"none\" stroke=\"black\"/>\n",
       "<polygon fill=\"black\" points=\"2487.5,-78.2996 2484,-68.2996 2480.5,-78.2996 2487.5,-78.2996\" stroke=\"black\"/>\n",
       "</g>\n",
       "<!-- 30 -->\n",
       "<g class=\"node\" id=\"node31\"><title>30</title>\n",
       "<polygon fill=\"#dc52e8\" points=\"2712,-68 2572,-68 2572,-0 2712,-0 2712,-68\" stroke=\"black\"/>\n",
       "<text font-family=\"Times New Roman,serif\" font-size=\"14.00\" text-anchor=\"middle\" x=\"2642\" y=\"-52.8\">gini = 0.204</text>\n",
       "<text font-family=\"Times New Roman,serif\" font-size=\"14.00\" text-anchor=\"middle\" x=\"2642\" y=\"-37.8\">samples = 458</text>\n",
       "<text font-family=\"Times New Roman,serif\" font-size=\"14.00\" text-anchor=\"middle\" x=\"2642\" y=\"-22.8\">value = [0, 6, 46, 406]</text>\n",
       "<text font-family=\"Times New Roman,serif\" font-size=\"14.00\" text-anchor=\"middle\" x=\"2642\" y=\"-7.8\">class = World Class</text>\n",
       "</g>\n",
       "<!-- 28&#45;&gt;30 -->\n",
       "<g class=\"edge\" id=\"edge30\"><title>28-&gt;30</title>\n",
       "<path d=\"M2542.83,-103.726C2556.86,-94.0078 2571.79,-83.6597 2585.69,-74.0222\" fill=\"none\" stroke=\"black\"/>\n",
       "<polygon fill=\"black\" points=\"2587.98,-76.6981 2594.2,-68.1252 2583.99,-70.9447 2587.98,-76.6981\" stroke=\"black\"/>\n",
       "</g>\n",
       "</g>\n",
       "</svg>"
      ],
      "text/plain": [
       "<IPython.core.display.SVG object>"
      ]
     },
     "metadata": {},
     "output_type": "display_data"
    }
   ],
   "source": [
    "#visualizing the decision tree before any data manipulation \n",
    "clf = DecisionTreeClassifier(max_depth = 4, random_state=42)\n",
    "\n",
    "#dropping categorical variables that we replaced with dummy variables \n",
    "df_clean_X = df_clean_final.loc[:, df_clean_final.columns.drop(['skill_level', 'country', 'occupation'])]\n",
    "#create target variable df \n",
    "df_clean_y = df_clean_final['skill_level']\n",
    "\n",
    "clf.fit(df_clean_X, df_clean_y)\n",
    "\n",
    "graph = Source(tree.export_graphviz(clf\n",
    "                                    ,out_file=None\n",
    "                                    ,filled = True\n",
    "                                    ,feature_names = df_clean_X.columns\n",
    "                                    ,class_names = ['Beginner', 'Intermediate', 'Advanced', 'World Class']))\n",
    "display(SVG(graph.pipe(format='svg')))\n"
   ]
  },
  {
   "cell_type": "markdown",
   "metadata": {},
   "source": [
    "Interesting and somewhat expected results. Speaking very generally over the decision tree, sponsored climbers, climbers with more logged climbs, longer time climbing and low(er) weight tended to climb higher grades. The number of years separator seemed to be much larger than anticipated, it seems younger climbers do not tend to log their climbs as much as older climbers. Another interesting find is that of climbers with many logged climbs who are not sponsored, those who were from Sweden tended to be classified as higher skilled, possibly speaking to their widespread climbing community and high standard of recreational climbers.\n",
    "\n",
    "Speaking more generally over the classifier, having a multi-class regression such as this with 4 target variables lead to relatively high Gini scores. An interesting investigation would be to repeat this project  with a binary classifier (beginner climber/good climber) to see if we can retrieve lower Gini scores.\n"
   ]
  },
  {
   "cell_type": "markdown",
   "metadata": {},
   "source": [
    "<h2> Regression Model Selection </h2>"
   ]
  },
  {
   "cell_type": "code",
   "execution_count": 10,
   "metadata": {},
   "outputs": [
    {
     "name": "stdout",
     "output_type": "stream",
     "text": [
      "Scaled columns sucessfully\n"
     ]
    }
   ],
   "source": [
    "#finding the optimal model - data cleaning 1 (optional if we don't want to scale numerical columns)\n",
    "\n",
    "#scaling the columns\n",
    "#set scaler\n",
    "scaler = StandardScaler()\n",
    "\n",
    "#find numerical columns\n",
    "numeric_columns = df_clean.select_dtypes(include=np.number).columns.tolist()\n",
    "numeric_columns.remove('skill_level')\n",
    "\n",
    "df_clean[numeric_columns] = scaler.fit_transform(df_clean[numeric_columns])\n",
    "print(\"Scaled columns sucessfully\")"
   ]
  },
  {
   "cell_type": "code",
   "execution_count": 11,
   "metadata": {},
   "outputs": [
    {
     "name": "stdout",
     "output_type": "stream",
     "text": [
      "Hash function applied successfully\n"
     ]
    }
   ],
   "source": [
    "#finding the optimal model - data cleaning 2\n",
    "#setting all categorical variables as numerical \n",
    "df_clean['occupation'] = df_clean['occupation'].apply(lambda x: hash(x))\n",
    "df_clean['country'] = df_clean['country'].apply(lambda x: hash(x))\n",
    "\n",
    "print(\"Hash function applied successfully\")"
   ]
  },
  {
   "cell_type": "code",
   "execution_count": 12,
   "metadata": {},
   "outputs": [
    {
     "name": "stdout",
     "output_type": "stream",
     "text": [
      "Training and test datasets split correctly \n"
     ]
    }
   ],
   "source": [
    "#creating training and test datasets\n",
    "df_decision_tree_X = df_clean.loc[:, df_clean.columns.drop(['skill_level'])]\n",
    "df_decision_tree_y = df_clean['skill_level']\n",
    "\n",
    "X_train, X_test, y_train, y_test = train_test_split(df_decision_tree_X, df_decision_tree_y, test_size=0.5, random_state=42)\n",
    "\n",
    "print(\"Training and test datasets split correctly \")"
   ]
  },
  {
   "cell_type": "markdown",
   "metadata": {},
   "source": [
    "Since this is a mutliclass regression problem, we will be testing these model's accuracy score in lieu of roc_auc."
   ]
  },
  {
   "cell_type": "code",
   "execution_count": 13,
   "metadata": {},
   "outputs": [
    {
     "name": "stderr",
     "output_type": "stream",
     "text": [
      "\r",
      "  0%|                                                    | 0/5 [00:00<?, ?it/s]"
     ]
    },
    {
     "name": "stdout",
     "output_type": "stream",
     "text": [
      "Models defined correctly\n"
     ]
    },
    {
     "name": "stderr",
     "output_type": "stream",
     "text": [
      "100%|████████████████████████████████████████████| 5/5 [00:33<00:00,  6.78s/it]"
     ]
    },
    {
     "name": "stdout",
     "output_type": "stream",
     "text": [
      "Models ran correctly\n"
     ]
    },
    {
     "name": "stderr",
     "output_type": "stream",
     "text": [
      "\n"
     ]
    }
   ],
   "source": [
    "#define base models to test '\n",
    "models = [\n",
    "    DecisionTreeClassifier(random_state = 1),\n",
    "    XGBClassifier(random_state = 2\n",
    "                #param={'max_depth':3, 'eta':1, 'objective':'binary:logistic' }\n",
    "                 ),\n",
    "    AdaBoostClassifier(random_state = 3),\n",
    "    LogisticRegression(random_state = 4),\n",
    "    RandomForestClassifier(random_state = 5),\n",
    "]\n",
    "\n",
    "print(\"Models defined correctly\")\n",
    "\n",
    "CV = KFold(n_splits=10)\n",
    "model_scores = []\n",
    "for model in tqdm(models):\n",
    "    model_name = model.__class__.__name__\n",
    "    accuracies = cross_val_score(model, df_decision_tree_X, df_decision_tree_y\n",
    "                                 , scoring='accuracy', cv=CV)\n",
    "    for iteration, accuracy in enumerate(accuracies):\n",
    "        model_scores.append((model_name, iteration, accuracy))\n",
    "\n",
    "print(\"Models ran correctly\")"
   ]
  },
  {
   "cell_type": "code",
   "execution_count": 37,
   "metadata": {},
   "outputs": [
    {
     "data": {
      "text/plain": [
       "<matplotlib.axes._subplots.AxesSubplot at 0x29d02b67888>"
      ]
     },
     "execution_count": 37,
     "metadata": {},
     "output_type": "execute_result"
    },
    {
     "data": {
      "image/png": "[encoded data removed]",
      "text/plain": [
       "<Figure size 648x648 with 1 Axes>"
      ]
     },
     "metadata": {},
     "output_type": "display_data"
    }
   ],
   "source": [
    "#creating visualisation of all models to compare the accuracy score of each cross validation iteration \n",
    "sns.set(style=\"whitegrid\")\n",
    "model_scores_df = pd.DataFrame(model_scores, columns =['Model', 'Iteration', 'Accuracy Score'])\n",
    "\n",
    "fig, ax  = plt.subplots(figsize = (9,9))\n",
    "sns.swarmplot(data=model_scores_df, x='Model', y='Accuracy Score')"
   ]
  },
  {
   "cell_type": "markdown",
   "metadata": {},
   "source": [
    "Interesting results. AdaBoost, XGBoost and RandomForestClassifier all produce the most accurate models. All of the models exhibit high variance, indicating low bias and possible under fitting. Due to the small amount of features of the dataset, this is somewhat expected and we will try and reduce the variance for more consistent model performance. \n",
    "\n",
    "Recapping our findings so far:\n",
    "\n",
    "We have joined all datasets together in SQL to produce our final table and have removed any rows with null values. We have visualised the variables and found which features/thresholds are the best predictors for climber's skill levels in our dataset. Finally, we have found that our best out-of-the-box model is AdaBoostClassifier/XGBoost/RandomForestClassifier with no hyper-parameter tuning.\n",
    "\n",
    "We will now repeat the process using the entire dataset to test different methodologies of dealing with missing/null values.\n"
   ]
  },
  {
   "cell_type": "markdown",
   "metadata": {},
   "source": [
    "<h2> Testing NULL Management Methodologies </h2>"
   ]
  },
  {
   "cell_type": "code",
   "execution_count": 28,
   "metadata": {},
   "outputs": [
    {
     "name": "stdout",
     "output_type": "stream",
     "text": [
      "Data imported correctly\n"
     ]
    }
   ],
   "source": [
    "#import dataset with nulls  \n",
    "\n",
    "#using sqlite (unsure how to add relative path connection to sql lite)\n",
    "# con = sqlite3.connect(r\"climbing_predictive_model_database.sqlite\")\n",
    "\n",
    "# df_clean = pd.read_sql_query(\"SELECT * from cleaned_data_complete\", con)\n",
    "\n",
    "#using read csv\n",
    "df_clean = pd.read_csv(\"cleaned_table_complete.csv\")\n",
    "\n",
    "print(\"Data imported correctly\")"
   ]
  },
  {
   "cell_type": "code",
   "execution_count": 29,
   "metadata": {},
   "outputs": [
    {
     "data": {
      "text/html": [
       "<div>\n",
       "<style scoped>\n",
       "    .dataframe tbody tr th:only-of-type {\n",
       "        vertical-align: middle;\n",
       "    }\n",
       "\n",
       "    .dataframe tbody tr th {\n",
       "        vertical-align: top;\n",
       "    }\n",
       "\n",
       "    .dataframe thead th {\n",
       "        text-align: right;\n",
       "    }\n",
       "</style>\n",
       "<table border=\"1\" class=\"dataframe\">\n",
       "  <thead>\n",
       "    <tr style=\"text-align: right;\">\n",
       "      <th></th>\n",
       "      <th>user_id</th>\n",
       "      <th>country</th>\n",
       "      <th>sex</th>\n",
       "      <th>weight</th>\n",
       "      <th>height</th>\n",
       "      <th>years_climbing</th>\n",
       "      <th>occupation</th>\n",
       "      <th>sponsored</th>\n",
       "      <th>number_of_logged_climbs</th>\n",
       "      <th>skill_level</th>\n",
       "    </tr>\n",
       "  </thead>\n",
       "  <tbody>\n",
       "    <tr>\n",
       "      <th>0</th>\n",
       "      <td>1</td>\n",
       "      <td>SWE</td>\n",
       "      <td>0.0</td>\n",
       "      <td>73.0</td>\n",
       "      <td>177.0</td>\n",
       "      <td>24.0</td>\n",
       "      <td>NaN</td>\n",
       "      <td>0</td>\n",
       "      <td>209</td>\n",
       "      <td>4</td>\n",
       "    </tr>\n",
       "    <tr>\n",
       "      <th>1</th>\n",
       "      <td>2</td>\n",
       "      <td>SWE</td>\n",
       "      <td>0.0</td>\n",
       "      <td>0.0</td>\n",
       "      <td>0.0</td>\n",
       "      <td>20.0</td>\n",
       "      <td>NaN</td>\n",
       "      <td>0</td>\n",
       "      <td>7</td>\n",
       "      <td>2</td>\n",
       "    </tr>\n",
       "    <tr>\n",
       "      <th>2</th>\n",
       "      <td>3</td>\n",
       "      <td>SWE</td>\n",
       "      <td>0.0</td>\n",
       "      <td>78.0</td>\n",
       "      <td>180.0</td>\n",
       "      <td>25.0</td>\n",
       "      <td>NaN</td>\n",
       "      <td>0</td>\n",
       "      <td>61</td>\n",
       "      <td>4</td>\n",
       "    </tr>\n",
       "    <tr>\n",
       "      <th>3</th>\n",
       "      <td>4</td>\n",
       "      <td>SWE</td>\n",
       "      <td>1.0</td>\n",
       "      <td>58.0</td>\n",
       "      <td>165.0</td>\n",
       "      <td>19.0</td>\n",
       "      <td>NaN</td>\n",
       "      <td>0</td>\n",
       "      <td>179</td>\n",
       "      <td>4</td>\n",
       "    </tr>\n",
       "    <tr>\n",
       "      <th>4</th>\n",
       "      <td>5</td>\n",
       "      <td>USA</td>\n",
       "      <td>0.0</td>\n",
       "      <td>0.0</td>\n",
       "      <td>0.0</td>\n",
       "      <td>29.0</td>\n",
       "      <td>NaN</td>\n",
       "      <td>0</td>\n",
       "      <td>389</td>\n",
       "      <td>3</td>\n",
       "    </tr>\n",
       "  </tbody>\n",
       "</table>\n",
       "</div>"
      ],
      "text/plain": [
       "   user_id country  sex  weight  height  years_climbing occupation  sponsored  \\\n",
       "0        1     SWE  0.0    73.0   177.0            24.0        NaN          0   \n",
       "1        2     SWE  0.0     0.0     0.0            20.0        NaN          0   \n",
       "2        3     SWE  0.0    78.0   180.0            25.0        NaN          0   \n",
       "3        4     SWE  1.0    58.0   165.0            19.0        NaN          0   \n",
       "4        5     USA  0.0     0.0     0.0            29.0        NaN          0   \n",
       "\n",
       "   number_of_logged_climbs  skill_level  \n",
       "0                      209            4  \n",
       "1                        7            2  \n",
       "2                       61            4  \n",
       "3                      179            4  \n",
       "4                      389            3  "
      ]
     },
     "execution_count": 29,
     "metadata": {},
     "output_type": "execute_result"
    },
    {
     "name": "stdout",
     "output_type": "stream",
     "text": [
      "<class 'pandas.core.frame.DataFrame'>\n",
      "RangeIndex: 35656 entries, 0 to 35655\n",
      "Data columns (total 10 columns):\n",
      " #   Column                   Non-Null Count  Dtype  \n",
      "---  ------                   --------------  -----  \n",
      " 0   user_id                  35656 non-null  int64  \n",
      " 1   country                  35613 non-null  object \n",
      " 2   sex                      35653 non-null  float64\n",
      " 3   weight                   35653 non-null  float64\n",
      " 4   height                   35653 non-null  float64\n",
      " 5   years_climbing           35653 non-null  float64\n",
      " 6   occupation               9245 non-null   object \n",
      " 7   sponsored                35656 non-null  int64  \n",
      " 8   number_of_logged_climbs  35656 non-null  int64  \n",
      " 9   skill_level              35656 non-null  int64  \n",
      "dtypes: float64(4), int64(4), object(2)\n",
      "memory usage: 2.7+ MB\n"
     ]
    }
   ],
   "source": [
    "#Project changed to predicting skill level instead of specific max grade. dropping max_climbing_grade and inspecting head\n",
    "df_clean = df_clean.drop('max_climbing_grade', 1)\n",
    "df_clean.head()\n",
    "df_clean.info()\n",
    "\n",
    "#roughly 5x the amount of data as the dataset with no null values in any of the features\n",
    "#Hopefully this will lead to more accurate models or lower variance models"
   ]
  },
  {
   "cell_type": "code",
   "execution_count": 30,
   "metadata": {},
   "outputs": [
    {
     "name": "stdout",
     "output_type": "stream",
     "text": [
      "Weight distribution before replacing values\n"
     ]
    },
    {
     "data": {
      "text/plain": [
       "0.0      0.372199\n",
       "68.0     0.133285\n",
       "73.0     0.128629\n",
       "63.0     0.110061\n",
       "78.0     0.070906\n",
       "58.0     0.055087\n",
       "53.0     0.036883\n",
       "83.0     0.036855\n",
       "48.0     0.018764\n",
       "88.0     0.012201\n",
       "43.0     0.006030\n",
       "40.0     0.005806\n",
       "100.0    0.005750\n",
       "93.0     0.005245\n",
       "98.0     0.002300\n",
       "Name: weight, dtype: float64"
      ]
     },
     "execution_count": 30,
     "metadata": {},
     "output_type": "execute_result"
    },
    {
     "name": "stdout",
     "output_type": "stream",
     "text": [
      "Weight distribution after replacing values\n"
     ]
    },
    {
     "data": {
      "text/plain": [
       "68.302864     0.372252\n",
       "68.000000     0.133274\n",
       "73.000000     0.128618\n",
       "63.000000     0.110052\n",
       "78.000000     0.070900\n",
       "58.000000     0.055082\n",
       "53.000000     0.036880\n",
       "83.000000     0.036852\n",
       "48.000000     0.018763\n",
       "88.000000     0.012200\n",
       "43.000000     0.006030\n",
       "40.000000     0.005805\n",
       "100.000000    0.005749\n",
       "93.000000     0.005245\n",
       "98.000000     0.002300\n",
       "Name: weight, dtype: float64"
      ]
     },
     "execution_count": 30,
     "metadata": {},
     "output_type": "execute_result"
    }
   ],
   "source": [
    "#inspecting weight feature\n",
    "print(\"Weight distribution before replacing values\")\n",
    "df_clean['weight'].value_counts(ascending=False, normalize=True)\n",
    "#35% of our weights are 0 value \n",
    "\n",
    "#set 0 values as NAN and replace\n",
    "df_clean['weight'].replace(0, np.nan, inplace= True)\n",
    "mean_weight=df_clean['weight'].mean()\n",
    "df_clean['weight']=df_clean['weight'].fillna(mean_weight)\n",
    "\n",
    "print(\"Weight distribution after replacing values\")\n",
    "df_clean['weight'].value_counts(ascending=False, normalize=True)"
   ]
  },
  {
   "cell_type": "code",
   "execution_count": 31,
   "metadata": {},
   "outputs": [
    {
     "name": "stdout",
     "output_type": "stream",
     "text": [
      "Height distribution before replacing values\n"
     ]
    },
    {
     "data": {
      "text/plain": [
       "0.0      0.369871\n",
       "180.0    0.054946\n",
       "178.0    0.043615\n",
       "175.0    0.041091\n",
       "170.0    0.037276\n",
       "           ...   \n",
       "254.0    0.000028\n",
       "115.0    0.000028\n",
       "133.0    0.000028\n",
       "20.0     0.000028\n",
       "96.0     0.000028\n",
       "Name: height, Length: 158, dtype: float64"
      ]
     },
     "execution_count": 31,
     "metadata": {},
     "output_type": "execute_result"
    },
    {
     "name": "stdout",
     "output_type": "stream",
     "text": [
      "height distribution after replacing values\n"
     ]
    },
    {
     "data": {
      "text/plain": [
       "174.545491    0.369924\n",
       "180.000000    0.054942\n",
       "178.000000    0.043611\n",
       "175.000000    0.041087\n",
       "170.000000    0.037273\n",
       "                ...   \n",
       "115.000000    0.000028\n",
       "254.000000    0.000028\n",
       "3.000000      0.000028\n",
       "89.000000     0.000028\n",
       "25.000000     0.000028\n",
       "Name: height, Length: 158, dtype: float64"
      ]
     },
     "execution_count": 31,
     "metadata": {},
     "output_type": "execute_result"
    }
   ],
   "source": [
    "#inspecting height feature\n",
    "print(\"Height distribution before replacing values\")\n",
    "df_clean['height'].value_counts(ascending=False, normalize=True)\n",
    "#36% of our weights are 0 value\n",
    "\n",
    "#set 0 values as NAN and replace\n",
    "df_clean['height'].replace(0, np.nan, inplace= True)\n",
    "mean_height=df_clean['height'].mean()\n",
    "df_clean['height']=df_clean['height'].fillna(mean_height)\n",
    "                            \n",
    "print(\"height distribution after replacing values\")\n",
    "df_clean['height'].value_counts(ascending=False, normalize=True)"
   ]
  },
  {
   "cell_type": "code",
   "execution_count": 32,
   "metadata": {},
   "outputs": [
    {
     "data": {
      "text/plain": [
       "2020.0    0.298180\n",
       "20.0      0.075898\n",
       "12.0      0.046251\n",
       "13.0      0.045971\n",
       "11.0      0.043475\n",
       "Name: years_climbing, dtype: float64"
      ]
     },
     "execution_count": 32,
     "metadata": {},
     "output_type": "execute_result"
    },
    {
     "data": {
      "text/plain": [
       "16.087243    0.298239\n",
       "20.000000    0.075892\n",
       "12.000000    0.046247\n",
       "13.000000    0.045967\n",
       "11.000000    0.043471\n",
       "Name: years_climbing, dtype: float64"
      ]
     },
     "execution_count": 32,
     "metadata": {},
     "output_type": "execute_result"
    }
   ],
   "source": [
    "#inspecting years_climbing feature\n",
    "df_clean['years_climbing'].value_counts(ascending=False, normalize=True).head()\n",
    "#30% of values showing as 2020 (previously inserted as 0 in the data)\n",
    "\n",
    "#set 2020 values as NAN and replace\n",
    "df_clean['years_climbing'].replace(2020, np.nan, inplace= True)\n",
    "mean_years_climbing=df_clean['years_climbing'].mean()\n",
    "df_clean['years_climbing']=df_clean['years_climbing'].fillna(mean_years_climbing)\n",
    "\n",
    "df_clean['years_climbing'].value_counts(ascending=False, normalize=True).head()\n"
   ]
  },
  {
   "cell_type": "code",
   "execution_count": 33,
   "metadata": {},
   "outputs": [
    {
     "data": {
      "text/plain": [
       "USA    0.184876\n",
       "ESP    0.111027\n",
       "POL    0.063741\n",
       "DEU    0.060512\n",
       "ITA    0.055261\n",
       "Name: country, dtype: float64"
      ]
     },
     "execution_count": 33,
     "metadata": {},
     "output_type": "execute_result"
    },
    {
     "data": {
      "text/html": [
       "<div>\n",
       "<style scoped>\n",
       "    .dataframe tbody tr th:only-of-type {\n",
       "        vertical-align: middle;\n",
       "    }\n",
       "\n",
       "    .dataframe tbody tr th {\n",
       "        vertical-align: top;\n",
       "    }\n",
       "\n",
       "    .dataframe thead th {\n",
       "        text-align: right;\n",
       "    }\n",
       "</style>\n",
       "<table border=\"1\" class=\"dataframe\">\n",
       "  <thead>\n",
       "    <tr style=\"text-align: right;\">\n",
       "      <th></th>\n",
       "      <th>user_id</th>\n",
       "      <th>country</th>\n",
       "      <th>sex</th>\n",
       "      <th>weight</th>\n",
       "      <th>height</th>\n",
       "      <th>years_climbing</th>\n",
       "      <th>occupation</th>\n",
       "      <th>sponsored</th>\n",
       "      <th>number_of_logged_climbs</th>\n",
       "      <th>skill_level</th>\n",
       "    </tr>\n",
       "  </thead>\n",
       "  <tbody>\n",
       "  </tbody>\n",
       "</table>\n",
       "</div>"
      ],
      "text/plain": [
       "Empty DataFrame\n",
       "Columns: [user_id, country, sex, weight, height, years_climbing, occupation, sponsored, number_of_logged_climbs, skill_level]\n",
       "Index: []"
      ]
     },
     "execution_count": 33,
     "metadata": {},
     "output_type": "execute_result"
    }
   ],
   "source": [
    "#inspecting country feature\n",
    "n_rows = 5\n",
    "df_clean['country'].value_counts(ascending=False, normalize=True).head(n_rows)\n",
    "\n",
    "#blank values only count for ~1% of our rows. small enough that dropping won't lead to a significant data loss\n",
    "indexNames = df_clean[ df_clean['country'].str.len() <3 ].index\n",
    "df_clean.drop(indexNames, inplace=True)\n",
    "\n",
    "#ensuring that the values were dropped, following should be null \n",
    "df_clean[df_clean['country'].str.len() <3]\n",
    "\n",
    "#after inspecting df_clean.info(), still some NULl values that can be dropped \n",
    "df_clean = df_clean.dropna(subset=['country'])\n"
   ]
  },
  {
   "cell_type": "code",
   "execution_count": 34,
   "metadata": {},
   "outputs": [
    {
     "data": {
      "text/plain": [
       "STUDENT       0.250352\n",
       "ESTUDIANTE    0.019258\n",
       "ENGINEER      0.018825\n",
       "TEACHER       0.014606\n",
       "CLIMBER       0.010927\n",
       "Name: occupation, dtype: float64"
      ]
     },
     "execution_count": 34,
     "metadata": {},
     "output_type": "execute_result"
    },
    {
     "data": {
      "text/plain": [
       "STUDENT       0.805425\n",
       "ESTUDIANTE    0.004998\n",
       "ENGINEER      0.004886\n",
       "TEACHER       0.003791\n",
       "CLIMBER       0.002836\n",
       "Name: occupation, dtype: float64"
      ]
     },
     "execution_count": 34,
     "metadata": {},
     "output_type": "execute_result"
    }
   ],
   "source": [
    "#inspecting occupation variable\n",
    "df_clean['occupation'].value_counts(ascending=False, normalize=True).head()\n",
    "#70% of values are null. can be good grounds to eliminate this variable completely\n",
    "#especially sice low frequency of other variables . for learning purposes, will test replacing with most common value\n",
    "#and will test replacing the missing values with a ML model at a later stage\n",
    "\n",
    "#replace blanks with NAN\n",
    "df_clean['occupation'].replace('', np.nan, inplace= True)\n",
    "\n",
    "df_clean['occupation'] = df_clean['occupation'].fillna(df_clean['occupation'].value_counts().index[0])\n",
    "\n",
    "df_clean['occupation'].value_counts(ascending=False, normalize=True).head()\n"
   ]
  },
  {
   "cell_type": "code",
   "execution_count": 35,
   "metadata": {},
   "outputs": [
    {
     "name": "stdout",
     "output_type": "stream",
     "text": [
      "<class 'pandas.core.frame.DataFrame'>\n",
      "Int64Index: 35611 entries, 0 to 35655\n",
      "Data columns (total 10 columns):\n",
      " #   Column                   Non-Null Count  Dtype  \n",
      "---  ------                   --------------  -----  \n",
      " 0   user_id                  35611 non-null  int64  \n",
      " 1   country                  35611 non-null  object \n",
      " 2   sex                      35611 non-null  float64\n",
      " 3   weight                   35611 non-null  float64\n",
      " 4   height                   35611 non-null  float64\n",
      " 5   years_climbing           35611 non-null  float64\n",
      " 6   occupation               35611 non-null  object \n",
      " 7   sponsored                35611 non-null  int64  \n",
      " 8   number_of_logged_climbs  35611 non-null  int64  \n",
      " 9   skill_level              35611 non-null  int64  \n",
      "dtypes: float64(4), int64(4), object(2)\n",
      "memory usage: 3.0+ MB\n"
     ]
    }
   ],
   "source": [
    "df_clean.info()"
   ]
  },
  {
   "cell_type": "markdown",
   "metadata": {},
   "source": [
    "Now we have dealt with missing values in the entire dataset, by dropping rows, replacing with mean values and replacing with most common values, we can apply the same methodology to test our models"
   ]
  },
  {
   "cell_type": "code",
   "execution_count": 39,
   "metadata": {},
   "outputs": [
    {
     "name": "stderr",
     "output_type": "stream",
     "text": [
      "\r",
      "  0%|                                                    | 0/5 [00:00<?, ?it/s]"
     ]
    },
    {
     "name": "stdout",
     "output_type": "stream",
     "text": [
      "Hash function applied successfully\n",
      "feature/target dataframes created sucessfully\n",
      "Models defined correctly\n"
     ]
    },
    {
     "name": "stderr",
     "output_type": "stream",
     "text": [
      "100%|████████████████████████████████████████████| 5/5 [02:11<00:00, 26.29s/it]"
     ]
    },
    {
     "name": "stdout",
     "output_type": "stream",
     "text": [
      "Models ran correctly\n"
     ]
    },
    {
     "name": "stderr",
     "output_type": "stream",
     "text": [
      "\n"
     ]
    }
   ],
   "source": [
    "#define base models to test '\n",
    "df_clean['occupation'] = df_clean['occupation'].apply(lambda x: hash(x))\n",
    "df_clean['country'] = df_clean['country'].apply(lambda x: hash(x))\n",
    "\n",
    "print(\"Hash function applied successfully\")\n",
    "\n",
    "df_model_selection_X = df_clean.loc[:, df_clean.columns.drop(['skill_level', 'occupation'])]\n",
    "df_model_selection_y = df_clean['skill_level']\n",
    "print(\"feature/target dataframes created sucessfully\")\n",
    "\n",
    "models = [\n",
    "    DecisionTreeClassifier(random_state = 1),\n",
    "    XGBClassifier(\n",
    "                #param={'max_depth':3, 'eta':1, 'objective':'binary:logistic' }\n",
    "                 ),\n",
    "    AdaBoostClassifier(random_state = 2),\n",
    "    LogisticRegression(random_state = 3),\n",
    "    RandomForestClassifier(random_state = 4)\n",
    "]\n",
    "\n",
    "print(\"Models defined correctly\")\n",
    "\n",
    "CV = k_fold = KFold(n_splits=10) \n",
    "model_scores = []\n",
    "for model in tqdm(models):\n",
    "    model_name = model.__class__.__name__\n",
    "    accuracies = cross_val_score(model, df_model_selection_X, df_model_selection_y\n",
    "                                  , scoring='accuracy', cv=CV)\n",
    "    for iteration, accuracy in enumerate(accuracies):\n",
    "        model_scores.append((model_name, iteration, accuracy))\n",
    "\n",
    "print(\"Models ran correctly\")\n"
   ]
  },
  {
   "cell_type": "code",
   "execution_count": 40,
   "metadata": {},
   "outputs": [
    {
     "data": {
      "text/plain": [
       "<matplotlib.axes._subplots.AxesSubplot at 0x1fcea898a88>"
      ]
     },
     "execution_count": 40,
     "metadata": {},
     "output_type": "execute_result"
    },
    {
     "data": {
      "image/png": "[encoded data removed]",
      "text/plain": [
       "<Figure size 648x648 with 1 Axes>"
      ]
     },
     "metadata": {},
     "output_type": "display_data"
    }
   ],
   "source": [
    "#creating visualisation of all models to compare the accuracy score of each cross validation iteration \n",
    "sns.set(style=\"whitegrid\")\n",
    "model_scores_df = pd.DataFrame(model_scores, columns =['Model', 'Iteration', 'Accuracy Score'])\n",
    "\n",
    "fig, ax = plt.subplots(figsize=(9,9))\n",
    "sns.swarmplot(data=model_scores_df, x='Model', y='Accuracy Score')"
   ]
  },
  {
   "cell_type": "markdown",
   "metadata": {},
   "source": [
    "The methodology used to deal with the NULLs affected each model similarly, with most models reducing in accuracy scores but also decreasing in variance. Given the large variance of the first iteration and the only small decrease in variance, this is clearly an overall positive outcome. \n",
    "\n",
    "Further study to find the cause of the lower performance of the models will be performed, but some I assume a large portion of the findings are due to overcorrection of missing values. For a number of variables we replaced 30%+ of them with the mean of the other values. If we had a dataset with more features, likely these features would have been dropped altogether. \n",
    "\n",
    "A common AdaBoost criticism is that it is subject to noisy data and therefore has issues with high variance. While 10 iterations only produced one outlier, it still exemplifies this characteristic. Future projects with more suitable datasets will test to see if we can reduce AdaBoosts variance, or configure XGBoost to increase performance as this is an alleged advantage of XGBoost was that it introduces regularization parameters to reduce over fitting. \n",
    "\n",
    "For now as a final step to this exploratory project, we will select appropriate hyper-parameter for RandomForestClassifier (high performance with lowest variance) and calculate precision/recall.\n"
   ]
  },
  {
   "cell_type": "markdown",
   "metadata": {},
   "source": [
    "<h2> Hyper-Parameter Tuning and Insights </h2>"
   ]
  },
  {
   "cell_type": "code",
   "execution_count": 41,
   "metadata": {},
   "outputs": [
    {
     "name": "stdout",
     "output_type": "stream",
     "text": [
      "Training and test datasets split correctly \n"
     ]
    }
   ],
   "source": [
    "#creating training and test datasets\n",
    "df_decision_tree_X = df_clean.loc[:, df_clean.columns.drop(['skill_level'])]\n",
    "df_decision_tree_y = df_clean['skill_level']\n",
    "\n",
    "X_train, X_test, y_train, y_test = train_test_split(df_decision_tree_X, df_decision_tree_y, test_size=0.5, random_state=42)\n",
    "\n",
    "print(\"Training and test datasets split correctly \")"
   ]
  },
  {
   "cell_type": "code",
   "execution_count": 42,
   "metadata": {},
   "outputs": [
    {
     "name": "stdout",
     "output_type": "stream",
     "text": [
      "Starting grid search \n"
     ]
    },
    {
     "data": {
      "text/plain": [
       "RandomizedSearchCV(cv=None, error_score=nan,\n",
       "                   estimator=RandomForestClassifier(bootstrap=True,\n",
       "                                                    ccp_alpha=0.0,\n",
       "                                                    class_weight=None,\n",
       "                                                    criterion='gini',\n",
       "                                                    max_depth=None,\n",
       "                                                    max_features='auto',\n",
       "                                                    max_leaf_nodes=None,\n",
       "                                                    max_samples=None,\n",
       "                                                    min_impurity_decrease=0.0,\n",
       "                                                    min_impurity_split=None,\n",
       "                                                    min_samples_leaf=1,\n",
       "                                                    min_samples_split=2,\n",
       "                                                    min_weight_fraction_leaf=0.0,\n",
       "                                                    n_estimators=100,\n",
       "                                                    n_jobs=None,\n",
       "                                                    oob_score=False,\n",
       "                                                    random_state=None,\n",
       "                                                    verbose=0,\n",
       "                                                    warm_start=False),\n",
       "                   iid='deprecated', n_iter=10, n_jobs=None,\n",
       "                   param_distributions={'max_depth': [5, 6, 7, 8, 9, 10],\n",
       "                                        'n_estimators': [100, 120, 140, 160,\n",
       "                                                         180, 200]},\n",
       "                   pre_dispatch='2*n_jobs', random_state=42, refit=True,\n",
       "                   return_train_score=False, scoring='accuracy', verbose=0)"
      ]
     },
     "execution_count": 42,
     "metadata": {},
     "output_type": "execute_result"
    },
    {
     "name": "stdout",
     "output_type": "stream",
     "text": [
      "The highest accuracy score of all RandomForest hyperparameter selections is 51.82252176354957%\n",
      "The following is the best configuration of RandomForestClassifier\n",
      "RandomForestClassifier(bootstrap=True, ccp_alpha=0.0, class_weight=None,\n",
      "                       criterion='gini', max_depth=9, max_features='auto',\n",
      "                       max_leaf_nodes=None, max_samples=None,\n",
      "                       min_impurity_decrease=0.0, min_impurity_split=None,\n",
      "                       min_samples_leaf=1, min_samples_split=2,\n",
      "                       min_weight_fraction_leaf=0.0, n_estimators=140,\n",
      "                       n_jobs=None, oob_score=False, random_state=None,\n",
      "                       verbose=0, warm_start=False)\n"
     ]
    }
   ],
   "source": [
    "#hyperparameter tuning \n",
    "#set parameters to tune\n",
    "\n",
    "n_estimators = [100, 120, 140, 160, 180, 200]\n",
    "max_depth = [5, 6, 7, 8, 9, 10]\n",
    "\n",
    "param_grid = {'n_estimators' : n_estimators,\n",
    "              'max_depth' : max_depth } \n",
    "\n",
    "model = RandomForestClassifier()\n",
    "\n",
    "print(\"Starting grid search \")\n",
    "\n",
    "clf = RandomizedSearchCV(estimator = model,\n",
    "                param_distributions = param_grid,\n",
    "                scoring = 'accuracy',\n",
    "                n_iter = 10,\n",
    "                random_state = 42)\n",
    "\n",
    "clf.fit(X_train, y_train)\n",
    "\n",
    "#prints the best accuracy score \n",
    "print(\"The highest accuracy score of all RandomForest hyperparameter selections is {}%\".format(clf.best_score_*100))\n",
    "\n",
    "#gives the best model/hyper parameter combination \n",
    "print(\"The following is the best configuration of RandomForestClassifier\")\n",
    "print(clf.best_estimator_)"
   ]
  },
  {
   "cell_type": "code",
   "execution_count": 17,
   "metadata": {},
   "outputs": [
    {
     "data": {
      "text/plain": [
       "RandomForestClassifier(bootstrap=True, ccp_alpha=0.0, class_weight=None,\n",
       "                       criterion='gini', max_depth=10, max_features='auto',\n",
       "                       max_leaf_nodes=None, max_samples=None,\n",
       "                       min_impurity_decrease=0.0, min_impurity_split=None,\n",
       "                       min_samples_leaf=1, min_samples_split=2,\n",
       "                       min_weight_fraction_leaf=0.0, n_estimators=120,\n",
       "                       n_jobs=None, oob_score=False, random_state=None,\n",
       "                       verbose=0, warm_start=False)"
      ]
     },
     "execution_count": 17,
     "metadata": {},
     "output_type": "execute_result"
    },
    {
     "name": "stdout",
     "output_type": "stream",
     "text": [
      "              precision    recall  f1-score   support\n",
      "\n",
      "           1       0.58      0.16      0.26      1654\n",
      "           2       0.49      0.67      0.57      5578\n",
      "           3       0.46      0.48      0.47      5707\n",
      "           4       0.65      0.51      0.57      4867\n",
      "\n",
      "    accuracy                           0.52     17806\n",
      "   macro avg       0.55      0.46      0.47     17806\n",
      "weighted avg       0.54      0.52      0.51     17806\n",
      "\n"
     ]
    }
   ],
   "source": [
    "#calculating precision and recall using the best hyperparameter combination as above\n",
    "model = RandomForestClassifier(n_estimators = 120, max_depth = 10)\n",
    "model.fit(X_train, y_train)\n",
    "\n",
    "y_pred = model.predict(X_test)\n",
    "\n",
    "# precision = precision_score(y_test, y_pred, average = 'weighted')\n",
    "# recall = recall_score(y_test, y_pred, average='weighted')\n",
    "\n",
    "# print(\"The best performing model's precision is %\".format(precision))\n",
    "# print(\"The best performing model's recall is%\".format(recall))\n",
    "\n",
    "print(classification_report(y_test, y_pred))"
   ]
  },
  {
   "cell_type": "markdown",
   "metadata": {},
   "source": [
    "Some key callouts from the classification report:\n",
    "The classificaiton report for a multi-class metric model is more in depth than previously assumed (https://towardsdatascience.com/multi-class-metrics-made-simple-part-i-precision-and-recall-9250280bddc2). Instead of calculating precision/recall for the model as a whole, we must look at it on a per-metric target basis. I am unsure of the efficacy of f1-score in multiclass models, however it is an intersting avenue for further exploration. \n",
    "\n",
    "The world class climbers has the highest precision. Of all the values that the model predicted world class, 65% of them were indeed world class.\n",
    "\n",
    "The intermediate climbers had the highest recall. Of all the intermediate climbers, the model identified 67% of them correctly. \n",
    "\n",
    "The fact that the models performed poorly overall is an interesting observation within itself. The feature variables largely included physical attributes with no features referring at all to a climber’s perceived climbing skill or technical ability. If we saw the models perform better, it could be said that physical attributes play the largest role in the grades that can be achieved by the climber, however since they performed poorly this suggests that the climber's technical ability plays a significant role in addition."
   ]
  }
 ],
 "metadata": {
  "kernelspec": {
   "display_name": "Python 3",
   "language": "python",
   "name": "python3"
  },
  "language_info": {
   "codemirror_mode": {
    "name": "ipython",
    "version": 3
   },
   "file_extension": ".py",
   "mimetype": "text/x-python",
   "name": "python",
   "nbconvert_exporter": "python",
   "pygments_lexer": "ipython3",
   "version": "3.7.6"
  }
 },
 "nbformat": 4,
 "nbformat_minor": 4
}
