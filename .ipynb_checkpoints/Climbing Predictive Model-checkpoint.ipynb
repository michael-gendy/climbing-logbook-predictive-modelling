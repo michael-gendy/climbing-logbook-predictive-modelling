{
 "cells": [
  {
   "cell_type": "markdown",
   "metadata": {},
   "source": [
    "The purpose of this project is to compare and contrast various popular regression methods - DecisionTreeClassifier, AdaBoost, RandomForestClassifier and XGBoost. I will also be seeing how various processing techniques affect the performance of the models, such as methodologies to deal with NULL values, hyper parameter selection, sandbagging techniques etc. The goal is not to produce the most perfectly fine tuned model (or close to), but to test a range of methodologies used to create regression models and to develop some deeper understanding of their applied nuances. In addition, creating a code repository for different stages of this investigation (visualising decision trees, comparing different models, cross validation, hyper parameter tuning) will be valuable for future projects.\n",
    "\n",
    "The dataset itself is found from Kaggle (https://www.kaggle.com/dcohen21/8anu-climbing-logbook). \n",
    "\n",
    "\n",
    "\n",
    "Previously started this project to predict climber's skill level (arbitrary from https://sportrock.com/understanding-climbing-grades/) and hardest climb achieved.\n",
    "All previous data processing and cleaning was done in python, and  reached memory error when replicating on entire dataset\n",
    "Instead repeated with all manipulation done in SQLite DB brower using the following script:\n"
   ]
  },
  {
   "cell_type": "code",
   "execution_count": null,
   "metadata": {},
   "outputs": [],
   "source": [
    "# #sql cleaning script \n",
    "# # creating two tables, one which only selects rows with non null/blank feature variables and the other with the \n",
    "# # complete dataaset with nulls\n",
    "\n",
    "# DROP TABLE IF EXISTS climbing_data_cleaning_1;\n",
    "# CREATE TABLE climbing_data_cleaning_1 AS \n",
    "# SELECT   t1.id as ascent_id\n",
    "# \t\t,t1.user_id\n",
    "# \t\t,t1.rating\n",
    "# \t\t,climb_try\n",
    "# \t\t,UPPER(t3.country) as country\n",
    "# \t\t,CAST(t3.sex as height) as sex\n",
    "# \t\t,CAST(t3.weight as int ) as weight\n",
    "# \t\t,CAST(t3.height as int) as height\n",
    "# \t\t,2020 - t3.started as years_climbing\n",
    "# \t\t,UPPER(t3.occupation) as occupation\n",
    "# \t\t,CASE WHEN sponsor1 > '' OR sponsor2 > '' OR sponsor3 > '' then 1 else 0 end as sponsored\n",
    "# \t\t,count(*) OVER(PARTITION BY user_id) AS number_of_logged_climbs\n",
    "# \t\t,t2.fra_boulders as grade\n",
    "# \t\t,t2.score as grade_number\n",
    "# \t\t,MAX(t2.score) OVER(PARTITION BY user_id) AS max_grade_achieved \n",
    "# \t\t,t4.shorthand\n",
    "# \t\t,CASE WHEN t2.id IS NULL then 1 else 0 end as failed_grade_join \n",
    "# \t\t,CASE WHEN t3.id IS NULL then 1 else 0 end as failed_user_join\n",
    "# \t\t,CASE WHEN t4.id IS NULL then 1 else 0 end as failed_method_join \n",
    "# FROM ascent t1 \n",
    "# LEFT JOIN grade t2 \n",
    "# ON t1.grade_id = t2.id\n",
    "# LEFT JOIN user t3\n",
    "# ON t1.user_id = t3.id\n",
    "# LEFT JOIN method t4\n",
    "# ON t1.method_id = t4.id\n",
    "# WHERE t4.shorthand != 'toprope';\n",
    "\n",
    "# DROP TABLE IF EXISTS climbing_data_cleaning_final_removed_nulls;\n",
    "# CREATE TABLE climbing_data_cleaning_final_removed_nulls AS \n",
    "# SELECT   DISTINCT  user_id\n",
    "# \t\t ,country\n",
    "# \t\t ,sex\n",
    "# \t\t ,weight\n",
    "# \t\t ,height\n",
    "# \t\t ,years_climbing\n",
    "# \t\t ,occupation\n",
    "# \t\t ,sponsored\n",
    "# \t\t ,number_of_logged_climbs\n",
    "# \t\t ,max_grade_achieved AS max_climbing_grade\n",
    "# \t\t ,CASE WHEN max_grade_achieved BETWEEN 0 AND 450 THEN CAST(1 AS int)\n",
    "# \t\t\t   WHEN max_grade_achieved BETWEEN 451 AND 750 THEN  CAST(2 AS int)\n",
    "# \t\t\t   WHEN max_grade_achieved BETWEEN 751 AND 950 THEN CAST(3 AS int)\n",
    "# \t\t\t   WHEN max_grade_achieved > 951 THEN CAST(4 AS int) END AS skill_level\n",
    "# FROM climbing_data_cleaning_1\n",
    "# WHERE occupation > '' \n",
    "# AND height > 0\n",
    "# AND weight > 0;\n",
    "\n",
    "# DROP TABLE IF EXISTS climbing_data_cleaning_final_with_nulls;\n",
    "# CREATE TABLE climbing_data_cleaning_final_with_nulls AS \n",
    "# SELECT   DISTINCT  user_id\n",
    "# \t\t ,country\n",
    "# \t\t ,sex\n",
    "# \t\t ,weight\n",
    "# \t\t ,height\n",
    "# \t\t ,years_climbing\n",
    "# \t\t ,occupation\n",
    "# \t\t ,sponsored\n",
    "# \t\t ,number_of_logged_climbs\n",
    "# \t\t ,max_grade_achieved AS max_climbing_grade\n",
    "# \t\t ,CASE WHEN max_grade_achieved BETWEEN 0 AND 450 THEN CAST(1 AS int)\n",
    "# \t\t\t   WHEN max_grade_achieved BETWEEN 451 AND 750 THEN  CAST(2 AS int)\n",
    "# \t\t\t   WHEN max_grade_achieved BETWEEN 751 AND 950 THEN CAST(3 AS int)\n",
    "# \t\t\t   WHEN max_grade_achieved > 951 THEN CAST(4 AS int) END AS skill_level\n",
    "# FROM climbing_data_cleaning_1;\n"
   ]
  },
  {
   "cell_type": "code",
   "execution_count": 2,
   "metadata": {},
   "outputs": [
    {
     "name": "stdout",
     "output_type": "stream",
     "text": [
      "Imported all libraries successfully\n"
     ]
    },
    {
     "name": "stderr",
     "output_type": "stream",
     "text": [
      "C:\\Users\\Michael\\anaconda3\\lib\\site-packages\\sklearn\\externals\\six.py:31: FutureWarning: The module is deprecated in version 0.21 and will be removed in version 0.23 since we've dropped support for Python 2.7. Please rely on the official version of six (https://pypi.org/project/six/).\n",
      "  \"(https://pypi.org/project/six/).\", FutureWarning)\n"
     ]
    }
   ],
   "source": [
    "#Import Libraries \n",
    "import pandas as pd\n",
    "import sqlite3\n",
    "import numpy as np\n",
    "from IPython.display import Image  \n",
    "import matplotlib as plt\n",
    "import seaborn as sns\n",
    "\n",
    "from sklearn.preprocessing import StandardScaler\n",
    "from sklearn.impute import SimpleImputer\n",
    "from sklearn.model_selection import train_test_split\n",
    "from sklearn.model_selection import cross_val_score\n",
    "from sklearn.model_selection import GridSearchCV\n",
    "from sklearn.model_selection import KFold\n",
    "from sklearn.model_selection import RandomizedSearchCV \n",
    "from sklearn.metrics import confusion_matrix \n",
    "from sklearn.metrics import accuracy_score \n",
    "from sklearn.metrics import classification_report \n",
    "from sklearn.metrics import precision_score\n",
    "from sklearn.metrics import recall_score\n",
    "from sklearn.tree import DecisionTreeClassifier\n",
    "from sklearn.tree import export_graphviz\n",
    "from sklearn.linear_model import LogisticRegression\n",
    "from sklearn import tree\n",
    "from sklearn.ensemble import AdaBoostClassifier\n",
    "from sklearn.ensemble import RandomForestClassifier\n",
    "from sklearn.externals.six import StringIO  \n",
    "\n",
    "from graphviz import Source\n",
    "from IPython.display import display\n",
    "from IPython.display import SVG\n",
    "from xgboost import XGBClassifier\n",
    "from tqdm import tqdm\n",
    "\n",
    "print(\"Imported all libraries successfully\")"
   ]
  },
  {
   "cell_type": "code",
   "execution_count": null,
   "metadata": {},
   "outputs": [],
   "source": [
    "#import dataset with no nulls first \n",
    "\n",
    "#using sqlite (unsure how to add relative path connection to sql lite)\n",
    "# con = sqlite3.connect(\"climbing_predictive_model_database.db\")\n",
    "\n",
    "# df_clean = pd.read_sql_query(\"SELECT * from cleaned_data_complete\", con)\n",
    "\n",
    "\n",
    "#using read_csv\n",
    "\n",
    "df_clean = pd.read_csv(\"cleaned_table_removed_nulls.csv\")\n",
    "\n",
    "print(\"Data imported correctly\")"
   ]
  },
  {
   "cell_type": "code",
   "execution_count": null,
   "metadata": {},
   "outputs": [],
   "source": [
    "#Project changed to predicting skill level instead of specific max grade. dropping max_climbing_grade and inspecting head\n",
    "df_clean = df_clean.drop('max_climbing_grade', 1)\n",
    "df_clean.head()\n",
    "df_clean.info()"
   ]
  },
  {
   "cell_type": "code",
   "execution_count": null,
   "metadata": {},
   "outputs": [],
   "source": [
    "#creating dummy variables and adding to dataframe\n",
    "df_dummy_country = pd.get_dummies(df_clean['country'])\n",
    "df_dummy_occupation = pd.get_dummies(df_clean['occupation'])\n",
    "\n",
    "df_clean_final = pd.concat([df_clean,  df_dummy_occupation], axis=1)\n",
    "df_clean_final = df_clean_final.merge(df_dummy_occupation,left_index=True, right_index=True)\n",
    "\n",
    "df_clean_final = pd.concat([df_clean,  df_dummy_country], axis=1)\n",
    "df_clean_final = df_clean_final.merge(df_dummy_country,left_index=True, right_index=True)\n",
    "\n",
    "df_clean_final.head()\n",
    "df_clean_final.info()\n",
    "print(\"Dummy variables created/appended, index reset\")"
   ]
  },
  {
   "cell_type": "code",
   "execution_count": null,
   "metadata": {},
   "outputs": [],
   "source": [
    "#visualizing the decision tree before any data manipulation \n",
    "clf = DecisionTreeClassifier(max_depth = 4)\n",
    "\n",
    "#dropping categorical variables that we replaced with dummy variables \n",
    "df_clean_X = df_clean_final.loc[:, df_clean_final.columns.drop(['skill_level', 'country', 'occupation'])]\n",
    "#create target variable df \n",
    "df_clean_y = df_clean_final['skill_level']\n",
    "\n",
    "clf.fit(df_clean_X, df_clean_y)\n",
    "\n",
    "graph = Source(tree.export_graphviz(clf\n",
    "                                    ,out_file=None\n",
    "                                    ,filled = True\n",
    "                                    ,feature_names = df_clean_X.columns\n",
    "                                    ,class_names = ['Beginner', 'Intermediate', 'Advanced', 'World Class']))\n",
    "display(SVG(graph.pipe(format='svg')))\n"
   ]
  },
  {
   "cell_type": "markdown",
   "metadata": {},
   "source": [
    "Interesting and somewhat expected results. Speaking very generally over the decision tree, climbers with more logged climbs, longer time climbing, low(er) weight tended to climb higher grades. The number of years seperator seemed to be much larger than anticipated, it seems younger climbers do not tend to log their climbs as much as older climbers. Another interesting find is that of climbers with many logged climbs who are not sponsered, those who werre from Sweeden tended to be classified as higher skilled, possibly speaking to their widespread climbing community and high standard of recreational climbers.\n",
    "\n",
    "Speaking more generally over the classifier, having a multi-class regression such as this with 4 target variables leads to relatively high Gini scores. An interesting inestigation would be to repeat this investgiation with a binary classifier (beginner climber/good climber) to see if we can retrieve lower Gini scores. \n"
   ]
  },
  {
   "cell_type": "code",
   "execution_count": null,
   "metadata": {},
   "outputs": [],
   "source": [
    "#finding the optimal model - data cleaning 1 (optional if we don't want to scale numerical columns)\n",
    "\n",
    "#scaling the columns\n",
    "#set scaler\n",
    "scaler = StandardScaler()\n",
    "\n",
    "#find numerical columns\n",
    "numeric_columns = df_clean.select_dtypes(include=np.number).columns.tolist()\n",
    "numeric_columns.remove('skill_level')\n",
    "\n",
    "df_clean[numeric_columns] = scaler.fit_transform(df_clean[numeric_columns])\n",
    "print(\"Scaled columns sucessfully\")\n",
    "\n"
   ]
  },
  {
   "cell_type": "code",
   "execution_count": null,
   "metadata": {},
   "outputs": [],
   "source": [
    "#finding the optimal model - data cleaning 2\n",
    "#setting all categorical variables as numerical \n",
    "df_clean['occupation'] = df_clean['occupation'].apply(lambda x: hash(x))\n",
    "df_clean['country'] = df_clean['country'].apply(lambda x: hash(x))\n",
    "\n",
    "print(\"Hash function applied successfully\")"
   ]
  },
  {
   "cell_type": "code",
   "execution_count": null,
   "metadata": {},
   "outputs": [],
   "source": [
    "#creating training and test datasets\n",
    "df_decision_tree_X = df_clean.loc[:, df_clean.columns.drop(['skill_level'])]\n",
    "df_decision_tree_y = df_clean['skill_level']\n",
    "\n",
    "X_train, X_test, y_train, y_test = train_test_split(df_decision_tree_X, df_decision_tree_y, test_size=0.5, random_state=42)\n",
    "\n",
    "print(\"Training and test datasets split correctly \")"
   ]
  },
  {
   "cell_type": "markdown",
   "metadata": {},
   "source": [
    "Since this is a mutliclass regression problem, we will be testing these model's accuracy score in lieu of roc_auc."
   ]
  },
  {
   "cell_type": "code",
   "execution_count": null,
   "metadata": {},
   "outputs": [],
   "source": [
    "#define base models to test '\n",
    "models = [\n",
    "    DecisionTreeClassifier(),\n",
    "    XGBClassifier(\n",
    "                #param={'max_depth':3, 'eta':1, 'objective':'binary:logistic' }\n",
    "                 ),\n",
    "    AdaBoostClassifier(),\n",
    "    LogisticRegression(),\n",
    "    RandomForestClassifier(),\n",
    "]\n",
    "\n",
    "print(\"Models defined correctly\")\n",
    "\n",
    "CV = KFold(n_splits=10)\n",
    "model_scores = []\n",
    "for model in tqmd(models):\n",
    "    model_name = model.__class__.__name__\n",
    "    accuracies = cross_val_score(model, df_decision_tree_X, df_decision_tree_y\n",
    "                                 , scoring='accuracy', cv=CV)\n",
    "    for iteration, accuracy in enumerate(accuracies):\n",
    "        model_scores.append((model_name, iteration, accuracy))\n",
    "\n",
    "print(\"Models ran correctly\")"
   ]
  },
  {
   "cell_type": "code",
   "execution_count": null,
   "metadata": {},
   "outputs": [],
   "source": [
    "#creating visualisation of all models to compare the accuracy score of each cross validation iteration \n",
    "sns.set(style=\"whitegrid\")\n",
    "model_scores_df = pd.DataFrame(model_scores, columns =['Model', 'Iteration', 'Accuracy Score'])\n",
    "\n",
    "sns.swarmplot(data=model_scores_df, x='Model', y='Accuracy Score')"
   ]
  },
  {
   "cell_type": "markdown",
   "metadata": {},
   "source": [
    "Intersting results. AdaBoost, XGBoost and RandomForestClassifier all produce the most accurate models. All of the models exhibit high variance, indicating low bias and possible underfitting. Due to the small amount of features of the dataset, this is somewhat expected and we will try and reduce the variance for more consistent model performance. \n",
    "\n",
    "Recapping our findings so far:\n",
    "\n",
    "We have joined all datasets together in SQL to produce our final table and have removed any rows with null values. We have visualised the variables and found which features/thresholds are the best predictors for climber's skill levels in our dataset. Finally, we have found that our best out-of-the-box model is AdaBoostClassifier/XGBoost/RandomForestClassifier with no hyperparameter tuning.\n",
    "\n",
    "We will now repeat the process using the entire dataset to test different methodologies of dealing with missing/null values."
   ]
  },
  {
   "cell_type": "code",
   "execution_count": 3,
   "metadata": {},
   "outputs": [
    {
     "name": "stdout",
     "output_type": "stream",
     "text": [
      "Data imported correctly\n"
     ]
    }
   ],
   "source": [
    "#import dataset with nulls  \n",
    "\n",
    "#using sqlite (unsure how to add relative path connection to sql lite)\n",
    "# con = sqlite3.connect(r\"climbing_predictive_model_database.sqlite\")\n",
    "\n",
    "# df_clean = pd.read_sql_query(\"SELECT * from cleaned_data_complete\", con)\n",
    "\n",
    "#using read csv\n",
    "df_clean = pd.read_csv(\"cleaned_table_complete.csv\")\n",
    "\n",
    "print(\"Data imported correctly\")"
   ]
  },
  {
   "cell_type": "code",
   "execution_count": 4,
   "metadata": {},
   "outputs": [
    {
     "data": {
      "text/html": [
       "<div>\n",
       "<style scoped>\n",
       "    .dataframe tbody tr th:only-of-type {\n",
       "        vertical-align: middle;\n",
       "    }\n",
       "\n",
       "    .dataframe tbody tr th {\n",
       "        vertical-align: top;\n",
       "    }\n",
       "\n",
       "    .dataframe thead th {\n",
       "        text-align: right;\n",
       "    }\n",
       "</style>\n",
       "<table border=\"1\" class=\"dataframe\">\n",
       "  <thead>\n",
       "    <tr style=\"text-align: right;\">\n",
       "      <th></th>\n",
       "      <th>user_id</th>\n",
       "      <th>country</th>\n",
       "      <th>sex</th>\n",
       "      <th>weight</th>\n",
       "      <th>height</th>\n",
       "      <th>years_climbing</th>\n",
       "      <th>occupation</th>\n",
       "      <th>sponsored</th>\n",
       "      <th>number_of_logged_climbs</th>\n",
       "      <th>skill_level</th>\n",
       "    </tr>\n",
       "  </thead>\n",
       "  <tbody>\n",
       "    <tr>\n",
       "      <th>0</th>\n",
       "      <td>1</td>\n",
       "      <td>SWE</td>\n",
       "      <td>0.0</td>\n",
       "      <td>73.0</td>\n",
       "      <td>177.0</td>\n",
       "      <td>24.0</td>\n",
       "      <td>NaN</td>\n",
       "      <td>0</td>\n",
       "      <td>209</td>\n",
       "      <td>4</td>\n",
       "    </tr>\n",
       "    <tr>\n",
       "      <th>1</th>\n",
       "      <td>2</td>\n",
       "      <td>SWE</td>\n",
       "      <td>0.0</td>\n",
       "      <td>0.0</td>\n",
       "      <td>0.0</td>\n",
       "      <td>20.0</td>\n",
       "      <td>NaN</td>\n",
       "      <td>0</td>\n",
       "      <td>7</td>\n",
       "      <td>2</td>\n",
       "    </tr>\n",
       "    <tr>\n",
       "      <th>2</th>\n",
       "      <td>3</td>\n",
       "      <td>SWE</td>\n",
       "      <td>0.0</td>\n",
       "      <td>78.0</td>\n",
       "      <td>180.0</td>\n",
       "      <td>25.0</td>\n",
       "      <td>NaN</td>\n",
       "      <td>0</td>\n",
       "      <td>61</td>\n",
       "      <td>4</td>\n",
       "    </tr>\n",
       "    <tr>\n",
       "      <th>3</th>\n",
       "      <td>4</td>\n",
       "      <td>SWE</td>\n",
       "      <td>1.0</td>\n",
       "      <td>58.0</td>\n",
       "      <td>165.0</td>\n",
       "      <td>19.0</td>\n",
       "      <td>NaN</td>\n",
       "      <td>0</td>\n",
       "      <td>179</td>\n",
       "      <td>4</td>\n",
       "    </tr>\n",
       "    <tr>\n",
       "      <th>4</th>\n",
       "      <td>5</td>\n",
       "      <td>USA</td>\n",
       "      <td>0.0</td>\n",
       "      <td>0.0</td>\n",
       "      <td>0.0</td>\n",
       "      <td>29.0</td>\n",
       "      <td>NaN</td>\n",
       "      <td>0</td>\n",
       "      <td>389</td>\n",
       "      <td>3</td>\n",
       "    </tr>\n",
       "  </tbody>\n",
       "</table>\n",
       "</div>"
      ],
      "text/plain": [
       "   user_id country  sex  weight  height  years_climbing occupation  sponsored  \\\n",
       "0        1     SWE  0.0    73.0   177.0            24.0        NaN          0   \n",
       "1        2     SWE  0.0     0.0     0.0            20.0        NaN          0   \n",
       "2        3     SWE  0.0    78.0   180.0            25.0        NaN          0   \n",
       "3        4     SWE  1.0    58.0   165.0            19.0        NaN          0   \n",
       "4        5     USA  0.0     0.0     0.0            29.0        NaN          0   \n",
       "\n",
       "   number_of_logged_climbs  skill_level  \n",
       "0                      209            4  \n",
       "1                        7            2  \n",
       "2                       61            4  \n",
       "3                      179            4  \n",
       "4                      389            3  "
      ]
     },
     "execution_count": 4,
     "metadata": {},
     "output_type": "execute_result"
    },
    {
     "name": "stdout",
     "output_type": "stream",
     "text": [
      "<class 'pandas.core.frame.DataFrame'>\n",
      "RangeIndex: 35656 entries, 0 to 35655\n",
      "Data columns (total 10 columns):\n",
      " #   Column                   Non-Null Count  Dtype  \n",
      "---  ------                   --------------  -----  \n",
      " 0   user_id                  35656 non-null  int64  \n",
      " 1   country                  35613 non-null  object \n",
      " 2   sex                      35653 non-null  float64\n",
      " 3   weight                   35653 non-null  float64\n",
      " 4   height                   35653 non-null  float64\n",
      " 5   years_climbing           35653 non-null  float64\n",
      " 6   occupation               9245 non-null   object \n",
      " 7   sponsored                35656 non-null  int64  \n",
      " 8   number_of_logged_climbs  35656 non-null  int64  \n",
      " 9   skill_level              35656 non-null  int64  \n",
      "dtypes: float64(4), int64(4), object(2)\n",
      "memory usage: 2.7+ MB\n"
     ]
    }
   ],
   "source": [
    "#Project changed to predicting skill level instead of specific max grade. dropping max_climbing_grade and inspecting head\n",
    "df_clean = df_clean.drop('max_climbing_grade', 1)\n",
    "df_clean.head()\n",
    "df_clean.info()\n",
    "\n",
    "#roughly 5x the amount of data as the dataset with no null values in any of the features\n",
    "#Hopefully this will lead to more accurate models or lower variance "
   ]
  },
  {
   "cell_type": "code",
   "execution_count": 5,
   "metadata": {},
   "outputs": [
    {
     "name": "stdout",
     "output_type": "stream",
     "text": [
      "Weight distribution before replacing values\n"
     ]
    },
    {
     "data": {
      "text/plain": [
       "0.0      0.372199\n",
       "68.0     0.133285\n",
       "73.0     0.128629\n",
       "63.0     0.110061\n",
       "78.0     0.070906\n",
       "58.0     0.055087\n",
       "53.0     0.036883\n",
       "83.0     0.036855\n",
       "48.0     0.018764\n",
       "88.0     0.012201\n",
       "43.0     0.006030\n",
       "40.0     0.005806\n",
       "100.0    0.005750\n",
       "93.0     0.005245\n",
       "98.0     0.002300\n",
       "Name: weight, dtype: float64"
      ]
     },
     "execution_count": 5,
     "metadata": {},
     "output_type": "execute_result"
    },
    {
     "name": "stdout",
     "output_type": "stream",
     "text": [
      "Weight distribution after replacing values\n"
     ]
    },
    {
     "data": {
      "text/plain": [
       "68.302864     0.372252\n",
       "68.000000     0.133274\n",
       "73.000000     0.128618\n",
       "63.000000     0.110052\n",
       "78.000000     0.070900\n",
       "58.000000     0.055082\n",
       "53.000000     0.036880\n",
       "83.000000     0.036852\n",
       "48.000000     0.018763\n",
       "88.000000     0.012200\n",
       "43.000000     0.006030\n",
       "40.000000     0.005805\n",
       "100.000000    0.005749\n",
       "93.000000     0.005245\n",
       "98.000000     0.002300\n",
       "Name: weight, dtype: float64"
      ]
     },
     "execution_count": 5,
     "metadata": {},
     "output_type": "execute_result"
    }
   ],
   "source": [
    "#inspecting weight feature\n",
    "print(\"Weight distribution before replacing values\")\n",
    "df_clean['weight'].value_counts(ascending=False, normalize=True)\n",
    "#35% of our weights are 0 value \n",
    "\n",
    "#set 0 values as NAN and replace\n",
    "df_clean['weight'].replace(0, np.nan, inplace= True)\n",
    "mean_weight=df_clean['weight'].mean()\n",
    "df_clean['weight']=df_clean['weight'].fillna(mean_weight)\n",
    "\n",
    "print(\"Weight distribution after replacing values\")\n",
    "df_clean['weight'].value_counts(ascending=False, normalize=True)"
   ]
  },
  {
   "cell_type": "code",
   "execution_count": 6,
   "metadata": {},
   "outputs": [
    {
     "name": "stdout",
     "output_type": "stream",
     "text": [
      "Height distribution before replacing values\n"
     ]
    },
    {
     "data": {
      "text/plain": [
       "0.0      0.369871\n",
       "180.0    0.054946\n",
       "178.0    0.043615\n",
       "175.0    0.041091\n",
       "170.0    0.037276\n",
       "           ...   \n",
       "254.0    0.000028\n",
       "115.0    0.000028\n",
       "133.0    0.000028\n",
       "20.0     0.000028\n",
       "96.0     0.000028\n",
       "Name: height, Length: 158, dtype: float64"
      ]
     },
     "execution_count": 6,
     "metadata": {},
     "output_type": "execute_result"
    },
    {
     "name": "stdout",
     "output_type": "stream",
     "text": [
      "height distribution after replacing values\n"
     ]
    },
    {
     "data": {
      "text/plain": [
       "174.545491    0.369924\n",
       "180.000000    0.054942\n",
       "178.000000    0.043611\n",
       "175.000000    0.041087\n",
       "170.000000    0.037273\n",
       "                ...   \n",
       "115.000000    0.000028\n",
       "254.000000    0.000028\n",
       "3.000000      0.000028\n",
       "89.000000     0.000028\n",
       "25.000000     0.000028\n",
       "Name: height, Length: 158, dtype: float64"
      ]
     },
     "execution_count": 6,
     "metadata": {},
     "output_type": "execute_result"
    }
   ],
   "source": [
    "#inspecting height feature\n",
    "print(\"Height distribution before replacing values\")\n",
    "df_clean['height'].value_counts(ascending=False, normalize=True)\n",
    "#36% of our weights are 0 value\n",
    "\n",
    "#set 0 values as NAN and replace\n",
    "df_clean['height'].replace(0, np.nan, inplace= True)\n",
    "mean_height=df_clean['height'].mean()\n",
    "df_clean['height']=df_clean['height'].fillna(mean_height)\n",
    "                            \n",
    "print(\"height distribution after replacing values\")\n",
    "df_clean['height'].value_counts(ascending=False, normalize=True)"
   ]
  },
  {
   "cell_type": "code",
   "execution_count": 7,
   "metadata": {},
   "outputs": [
    {
     "data": {
      "text/plain": [
       "2020.0    0.298180\n",
       "20.0      0.075898\n",
       "12.0      0.046251\n",
       "13.0      0.045971\n",
       "11.0      0.043475\n",
       "Name: years_climbing, dtype: float64"
      ]
     },
     "execution_count": 7,
     "metadata": {},
     "output_type": "execute_result"
    },
    {
     "data": {
      "text/plain": [
       "16.087243    0.298239\n",
       "20.000000    0.075892\n",
       "12.000000    0.046247\n",
       "13.000000    0.045967\n",
       "11.000000    0.043471\n",
       "Name: years_climbing, dtype: float64"
      ]
     },
     "execution_count": 7,
     "metadata": {},
     "output_type": "execute_result"
    }
   ],
   "source": [
    "#inspecting years_climbing feature\n",
    "df_clean['years_climbing'].value_counts(ascending=False, normalize=True).head()\n",
    "#30% of values showing as 2020 (previously inserted as 0 in the data)\n",
    "\n",
    "#set 2020 values as NAN and replace\n",
    "df_clean['years_climbing'].replace(2020, np.nan, inplace= True)\n",
    "mean_years_climbing=df_clean['years_climbing'].mean()\n",
    "df_clean['years_climbing']=df_clean['years_climbing'].fillna(mean_years_climbing)\n",
    "\n",
    "df_clean['years_climbing'].value_counts(ascending=False, normalize=True).head()\n"
   ]
  },
  {
   "cell_type": "code",
   "execution_count": 8,
   "metadata": {},
   "outputs": [
    {
     "data": {
      "text/plain": [
       "USA    0.184876\n",
       "ESP    0.111027\n",
       "POL    0.063741\n",
       "DEU    0.060512\n",
       "ITA    0.055261\n",
       "Name: country, dtype: float64"
      ]
     },
     "execution_count": 8,
     "metadata": {},
     "output_type": "execute_result"
    },
    {
     "data": {
      "text/html": [
       "<div>\n",
       "<style scoped>\n",
       "    .dataframe tbody tr th:only-of-type {\n",
       "        vertical-align: middle;\n",
       "    }\n",
       "\n",
       "    .dataframe tbody tr th {\n",
       "        vertical-align: top;\n",
       "    }\n",
       "\n",
       "    .dataframe thead th {\n",
       "        text-align: right;\n",
       "    }\n",
       "</style>\n",
       "<table border=\"1\" class=\"dataframe\">\n",
       "  <thead>\n",
       "    <tr style=\"text-align: right;\">\n",
       "      <th></th>\n",
       "      <th>user_id</th>\n",
       "      <th>country</th>\n",
       "      <th>sex</th>\n",
       "      <th>weight</th>\n",
       "      <th>height</th>\n",
       "      <th>years_climbing</th>\n",
       "      <th>occupation</th>\n",
       "      <th>sponsored</th>\n",
       "      <th>number_of_logged_climbs</th>\n",
       "      <th>skill_level</th>\n",
       "    </tr>\n",
       "  </thead>\n",
       "  <tbody>\n",
       "  </tbody>\n",
       "</table>\n",
       "</div>"
      ],
      "text/plain": [
       "Empty DataFrame\n",
       "Columns: [user_id, country, sex, weight, height, years_climbing, occupation, sponsored, number_of_logged_climbs, skill_level]\n",
       "Index: []"
      ]
     },
     "execution_count": 8,
     "metadata": {},
     "output_type": "execute_result"
    }
   ],
   "source": [
    "#inspecting country feature\n",
    "n_rows = 5\n",
    "df_clean['country'].value_counts(ascending=False, normalize=True).head(n_rows)\n",
    "\n",
    "#blank values only count for ~1% of our rows. small enough that dropping won't lead to a significant data loss\n",
    "indexNames = df_clean[ df_clean['country'].str.len() <3 ].index\n",
    "df_clean.drop(indexNames, inplace=True)\n",
    "\n",
    "#ensuring that the values were dropped, following should be null \n",
    "df_clean[df_clean['country'].str.len() <3]\n",
    "\n",
    "#after inspecting df_clean.info(), still some NULl values that can be dropped \n",
    "df_clean = df_clean.dropna(subset=['country'])\n"
   ]
  },
  {
   "cell_type": "code",
   "execution_count": 9,
   "metadata": {},
   "outputs": [
    {
     "data": {
      "text/plain": [
       "STUDENT       0.250352\n",
       "ESTUDIANTE    0.019258\n",
       "ENGINEER      0.018825\n",
       "TEACHER       0.014606\n",
       "CLIMBER       0.010927\n",
       "Name: occupation, dtype: float64"
      ]
     },
     "execution_count": 9,
     "metadata": {},
     "output_type": "execute_result"
    },
    {
     "data": {
      "text/plain": [
       "STUDENT       0.805425\n",
       "ESTUDIANTE    0.004998\n",
       "ENGINEER      0.004886\n",
       "TEACHER       0.003791\n",
       "CLIMBER       0.002836\n",
       "Name: occupation, dtype: float64"
      ]
     },
     "execution_count": 9,
     "metadata": {},
     "output_type": "execute_result"
    }
   ],
   "source": [
    "#inspecting occupation variable\n",
    "df_clean['occupation'].value_counts(ascending=False, normalize=True).head()\n",
    "#70% of values are null. can be good grounds to eliminate this variable completely\n",
    "#especially sice low frequency of other variables . for learning purposes, will test replacing with most common value\n",
    "#and will test replacing the missing values with a ML model at a later stage\n",
    "\n",
    "#replace blanks with NAN\n",
    "df_clean['occupation'].replace('', np.nan, inplace= True)\n",
    "\n",
    "df_clean['occupation'] = df_clean['occupation'].fillna(df_clean['occupation'].value_counts().index[0])\n",
    "\n",
    "df_clean['occupation'].value_counts(ascending=False, normalize=True).head()\n"
   ]
  },
  {
   "cell_type": "code",
   "execution_count": 10,
   "metadata": {},
   "outputs": [
    {
     "name": "stdout",
     "output_type": "stream",
     "text": [
      "<class 'pandas.core.frame.DataFrame'>\n",
      "Int64Index: 35611 entries, 0 to 35655\n",
      "Data columns (total 10 columns):\n",
      " #   Column                   Non-Null Count  Dtype  \n",
      "---  ------                   --------------  -----  \n",
      " 0   user_id                  35611 non-null  int64  \n",
      " 1   country                  35611 non-null  object \n",
      " 2   sex                      35611 non-null  float64\n",
      " 3   weight                   35611 non-null  float64\n",
      " 4   height                   35611 non-null  float64\n",
      " 5   years_climbing           35611 non-null  float64\n",
      " 6   occupation               35611 non-null  object \n",
      " 7   sponsored                35611 non-null  int64  \n",
      " 8   number_of_logged_climbs  35611 non-null  int64  \n",
      " 9   skill_level              35611 non-null  int64  \n",
      "dtypes: float64(4), int64(4), object(2)\n",
      "memory usage: 3.0+ MB\n"
     ]
    }
   ],
   "source": [
    "df_clean.info()"
   ]
  },
  {
   "cell_type": "markdown",
   "metadata": {},
   "source": [
    "Now we have dealt with missing values in the entire dataset, by dropping rows, replacing with mean values and replacing with most common values, we can apply the same methodology to test our models"
   ]
  },
  {
   "cell_type": "code",
   "execution_count": 11,
   "metadata": {},
   "outputs": [
    {
     "name": "stderr",
     "output_type": "stream",
     "text": [
      "\r",
      "  0%|                                                    | 0/5 [00:00<?, ?it/s]"
     ]
    },
    {
     "name": "stdout",
     "output_type": "stream",
     "text": [
      "Hash function applied successfully\n",
      "feature/target dataframes created sucessfully\n",
      "Models defined correctly\n"
     ]
    },
    {
     "name": "stderr",
     "output_type": "stream",
     "text": [
      "100%|████████████████████████████████████████████| 5/5 [02:03<00:00, 24.77s/it]"
     ]
    },
    {
     "name": "stdout",
     "output_type": "stream",
     "text": [
      "Models ran correctly\n"
     ]
    },
    {
     "name": "stderr",
     "output_type": "stream",
     "text": [
      "\n"
     ]
    }
   ],
   "source": [
    "#define base models to test '\n",
    "df_clean['occupation'] = df_clean['occupation'].apply(lambda x: hash(x))\n",
    "df_clean['country'] = df_clean['country'].apply(lambda x: hash(x))\n",
    "\n",
    "print(\"Hash function applied successfully\")\n",
    "\n",
    "df_model_selection_X = df_clean.loc[:, df_clean.columns.drop(['skill_level', 'occupation'])]\n",
    "df_model_selection_y = df_clean['skill_level']\n",
    "print(\"feature/target dataframes created sucessfully\")\n",
    "\n",
    "models = [\n",
    "    DecisionTreeClassifier(),\n",
    "    XGBClassifier(\n",
    "                #param={'max_depth':3, 'eta':1, 'objective':'binary:logistic' }\n",
    "                 ),\n",
    "    AdaBoostClassifier(),\n",
    "    LogisticRegression(),\n",
    "    RandomForestClassifier()\n",
    "]\n",
    "\n",
    "print(\"Models defined correctly\")\n",
    "\n",
    "CV = k_fold = KFold(n_splits=10) \n",
    "model_scores = []\n",
    "for model in tqdm(models):\n",
    "    model_name = model.__class__.__name__\n",
    "    accuracies = cross_val_score(model, df_model_selection_X, df_model_selection_y\n",
    "                                  , scoring='accuracy', cv=CV)\n",
    "    for iteration, accuracy in enumerate(accuracies):\n",
    "        model_scores.append((model_name, iteration, accuracy))\n",
    "\n",
    "print(\"Models ran correctly\")\n"
   ]
  },
  {
   "cell_type": "code",
   "execution_count": 12,
   "metadata": {},
   "outputs": [
    {
     "data": {
      "text/plain": [
       "<matplotlib.axes._subplots.AxesSubplot at 0x1fe2ac08448>"
      ]
     },
     "execution_count": 12,
     "metadata": {},
     "output_type": "execute_result"
    },
    {
     "data": {
      "image/png": "[encoded data removed]",
      "text/plain": [
       "<Figure size 432x288 with 1 Axes>"
      ]
     },
     "metadata": {},
     "output_type": "display_data"
    }
   ],
   "source": [
    "#creating visualisation of all models to compare the accuracy score of each cross validation iteration \n",
    "sns.set(style=\"whitegrid\")\n",
    "model_scores_df = pd.DataFrame(model_scores, columns =['Model', 'Iteration', 'Accuracy Score'])\n",
    "\n",
    "sns.swarmplot(data=model_scores_df, x='Model', y='Accuracy Score')"
   ]
  },
  {
   "cell_type": "markdown",
   "metadata": {},
   "source": [
    "The methodology used to deal with the NULLs affected each model simiarly, with most models reducing in accuracy scores but also decreasing in variance. Given the large variance of the first iteration, this is clearly an overall positive outcome. \n",
    "\n",
    "<!-- Interestingly, the methodology used to deal with the nulls affected each model quite differently. DecisionTreeClassifier performed noticeably worse with slightly lower variance, XGBoost performed largely the same, AdaBoostClassifier saw much higher variance in the results performing slightly worse across accuracy scores, with LogisticRegression perfoming noticeably better with respect to accuracy score and lower variance. \n",
    " -->\n",
    "Further study to find our the cause of the lower performance of the models will be performed, but some I assume a large portion of the findings are due to overcorrection of missing values. For a number of variables we replaced 30%+ of them with the mean of the other values. If we had a dataset with more features, likely these features would have been dropped altogether. \n",
    "\n",
    "A common AdaBoost critizism is that it is subject to noisey data and therefore has issues with high variance. While 10 iterations only produced one outlier, it still exemplifies this characteristic. Future projects with more suitable datasets will test to see if we can reduce AdaBoosts variance, or configure XGBoost to increase performance as this is an allegded advantage of XGBoost was that it introduces regularization parameters to reduce overfitting. \n",
    "\n",
    "For now as a final step to this exploratory project, we will select appropriate hyperparameter for RandomForestClassifier (high performance with lowest variance) and calculate precision/recall. "
   ]
  },
  {
   "cell_type": "code",
   "execution_count": 13,
   "metadata": {},
   "outputs": [
    {
     "name": "stdout",
     "output_type": "stream",
     "text": [
      "Training and test datasets split correctly \n"
     ]
    }
   ],
   "source": [
    "#creating training and test datasets\n",
    "df_decision_tree_X = df_clean.loc[:, df_clean.columns.drop(['skill_level'])]\n",
    "df_decision_tree_y = df_clean['skill_level']\n",
    "\n",
    "X_train, X_test, y_train, y_test = train_test_split(df_decision_tree_X, df_decision_tree_y, test_size=0.5, random_state=42)\n",
    "\n",
    "print(\"Training and test datasets split correctly \")"
   ]
  },
  {
   "cell_type": "code",
   "execution_count": 15,
   "metadata": {},
   "outputs": [
    {
     "data": {
      "text/plain": [
       "RandomizedSearchCV(cv=None, error_score=nan,\n",
       "                   estimator=RandomForestClassifier(bootstrap=True,\n",
       "                                                    ccp_alpha=0.0,\n",
       "                                                    class_weight=None,\n",
       "                                                    criterion='gini',\n",
       "                                                    max_depth=None,\n",
       "                                                    max_features='auto',\n",
       "                                                    max_leaf_nodes=None,\n",
       "                                                    max_samples=None,\n",
       "                                                    min_impurity_decrease=0.0,\n",
       "                                                    min_impurity_split=None,\n",
       "                                                    min_samples_leaf=1,\n",
       "                                                    min_samples_split=2,\n",
       "                                                    min_weight_fraction_leaf=0.0,\n",
       "                                                    n_estimators=100,\n",
       "                                                    n_jobs=None,\n",
       "                                                    oob_score=False,\n",
       "                                                    random_state=None,\n",
       "                                                    verbose=0,\n",
       "                                                    warm_start=False),\n",
       "                   iid='deprecated', n_iter=10, n_jobs=None,\n",
       "                   param_distributions={'max_depth': [5, 6, 7, 8, 9, 10],\n",
       "                                        'n_estimators': [100, 120, 140, 160,\n",
       "                                                         180, 200]},\n",
       "                   pre_dispatch='2*n_jobs', random_state=None, refit=True,\n",
       "                   return_train_score=False, scoring='accuracy', verbose=0)"
      ]
     },
     "execution_count": 15,
     "metadata": {},
     "output_type": "execute_result"
    },
    {
     "name": "stdout",
     "output_type": "stream",
     "text": [
      "The highest accuracy score of all RandomForest hyperparameter selections is 51.78320696433586%\n",
      "The following is the best configuration of RandomForestClassifier\n",
      "RandomForestClassifier(bootstrap=True, ccp_alpha=0.0, class_weight=None,\n",
      "                       criterion='gini', max_depth=10, max_features='auto',\n",
      "                       max_leaf_nodes=None, max_samples=None,\n",
      "                       min_impurity_decrease=0.0, min_impurity_split=None,\n",
      "                       min_samples_leaf=1, min_samples_split=2,\n",
      "                       min_weight_fraction_leaf=0.0, n_estimators=100,\n",
      "                       n_jobs=None, oob_score=False, random_state=None,\n",
      "                       verbose=0, warm_start=False)\n"
     ]
    }
   ],
   "source": [
    "#hyperparameter tuning \n",
    "#set parameters to tune\n",
    "\n",
    "n_estimators = [100, 120, 140, 160, 180, 200]\n",
    "max_depth = [5, 6, 7, 8, 9, 10]\n",
    "\n",
    "param_grid = {'n_estimators' : n_estimators,\n",
    "              'max_depth' : max_depth } \n",
    "\n",
    "model = RandomForestClassifier()\n",
    "\n",
    "print(\"Starting grid search \")\n",
    "\n",
    "clf = RandomizedSearchCV(estimator = model,\n",
    "                param_distributions = param_grid,\n",
    "                scoring = 'accuracy',\n",
    "                n_iter = 10,\n",
    "                random_state = 42)\n",
    "\n",
    "clf.fit(X_train, y_train)\n",
    "\n",
    "#prints the best accuracy score \n",
    "print(\"The highest accuracy score of all RandomForest hyperparameter selections is {}%\".format(clf.best_score_*100))\n",
    "\n",
    "#gives the best model/hyper parameter combination \n",
    "print(\"The following is the best configuration of RandomForestClassifier\")\n",
    "print(clf.best_estimator_)"
   ]
  },
  {
   "cell_type": "code",
   "execution_count": 17,
   "metadata": {},
   "outputs": [
    {
     "data": {
      "text/plain": [
       "RandomForestClassifier(bootstrap=True, ccp_alpha=0.0, class_weight=None,\n",
       "                       criterion='gini', max_depth=10, max_features='auto',\n",
       "                       max_leaf_nodes=None, max_samples=None,\n",
       "                       min_impurity_decrease=0.0, min_impurity_split=None,\n",
       "                       min_samples_leaf=1, min_samples_split=2,\n",
       "                       min_weight_fraction_leaf=0.0, n_estimators=120,\n",
       "                       n_jobs=None, oob_score=False, random_state=None,\n",
       "                       verbose=0, warm_start=False)"
      ]
     },
     "execution_count": 17,
     "metadata": {},
     "output_type": "execute_result"
    },
    {
     "name": "stdout",
     "output_type": "stream",
     "text": [
      "              precision    recall  f1-score   support\n",
      "\n",
      "           1       0.58      0.16      0.26      1654\n",
      "           2       0.49      0.67      0.57      5578\n",
      "           3       0.46      0.48      0.47      5707\n",
      "           4       0.65      0.51      0.57      4867\n",
      "\n",
      "    accuracy                           0.52     17806\n",
      "   macro avg       0.55      0.46      0.47     17806\n",
      "weighted avg       0.54      0.52      0.51     17806\n",
      "\n"
     ]
    }
   ],
   "source": [
    "#calculating precision and recall using the best hyperparameter combination as above\n",
    "model = RandomForestClassifier(n_estimators = 120, max_depth = 10)\n",
    "model.fit(X_train, y_train)\n",
    "\n",
    "y_pred = model.predict(X_test)\n",
    "\n",
    "# precision = precision_score(y_test, y_pred, average = 'weighted')\n",
    "# recall = recall_score(y_test, y_pred, average='weighted')\n",
    "\n",
    "# print(\"The best performing model's precision is %\".format(precision))\n",
    "# print(\"The best performing model's recall is%\".format(recall))\n",
    "\n",
    "print(classification_report(y_test, y_pred))"
   ]
  },
  {
   "cell_type": "markdown",
   "metadata": {},
   "source": [
    "Some key callouts from the classification report:\n",
    "The classificaiton report for a multi-class metric model is more in depth than previously assumed (https://towardsdatascience.com/multi-class-metrics-made-simple-part-i-precision-and-recall-9250280bddc2). Instead of calculating precision/recall for the model as a whole, we must look at it on a per-metric target basis. I am unsure of the efficacy of f1-score in multiclass models, however it is an intersting avenue for further exploration. \n",
    "\n",
    "The world class climbers has the highest precision. Of all the values that the model predicted world class, 65% of them were indeed world class.\n",
    "\n",
    "The intermediate climbers had the highest recall. Of all the intermediate climbers, the model identified 67% of them correctly. \n",
    "\n",
    "\n",
    "\n"
   ]
  },
  {
   "cell_type": "code",
   "execution_count": null,
   "metadata": {},
   "outputs": [],
   "source": [
    "Project learnings:\n",
    "    \n"
   ]
  },
  {
   "cell_type": "code",
   "execution_count": 16,
   "metadata": {},
   "outputs": [
    {
     "name": "stdout",
     "output_type": "stream",
     "text": [
      "alabaster==0.7.12\n",
      "anaconda-client==1.7.2\n",
      "anaconda-navigator==1.9.12\n",
      "anaconda-project==0.8.3\n",
      "argh==0.26.2\n",
      "asn1crypto==1.3.0\n",
      "astroid==2.3.3\n",
      "astropy==4.0\n",
      "atomicwrites==1.3.0\n",
      "attrs==19.3.0\n",
      "autopep8==1.4.4\n",
      "Babel==2.8.0\n",
      "backcall==0.1.0\n",
      "backports.functools-lru-cache==1.6.1\n",
      "backports.shutil-get-terminal-size==1.0.0\n",
      "backports.tempfile==1.0\n",
      "backports.weakref==1.0.post1\n",
      "bcrypt==3.1.7\n",
      "beautifulsoup4==4.8.2\n",
      "bitarray==1.2.1\n",
      "bkcharts==0.2\n",
      "bleach==3.1.0\n",
      "bokeh==1.4.0\n",
      "boto==2.49.0\n",
      "Bottleneck==1.3.2\n",
      "certifi==2019.11.28\n",
      "cffi==1.14.0\n",
      "chardet==3.0.4\n",
      "Click==7.0\n",
      "cloudpickle==1.3.0\n",
      "clyent==1.2.2\n",
      "colorama==0.4.3\n",
      "comtypes==1.1.7\n",
      "conda==4.8.3\n",
      "conda-build==3.18.11\n",
      "conda-package-handling==1.6.0\n",
      "conda-verify==3.4.2\n",
      "contextlib2==0.6.0.post1\n",
      "cryptography==2.8\n",
      "cycler==0.10.0\n",
      "Cython==0.29.15\n",
      "cytoolz==0.10.1\n",
      "dask==2.11.0\n",
      "decorator==4.4.1\n",
      "defusedxml==0.6.0\n",
      "diff-match-patch==20181111\n",
      "distributed==2.11.0\n",
      "docutils==0.16\n",
      "entrypoints==0.3\n",
      "et-xmlfile==1.0.1\n",
      "fastcache==1.1.0\n",
      "filelock==3.0.12\n",
      "flake8==3.7.9\n",
      "Flask==1.1.1\n",
      "fsspec==0.6.2\n",
      "future==0.18.2\n",
      "gevent==1.4.0\n",
      "glob2==0.7\n",
      "graphviz==0.13.2\n",
      "greenlet==0.4.15\n",
      "h5py==2.10.0\n",
      "HeapDict==1.0.1\n",
      "html5lib==1.0.1\n",
      "hypothesis==5.5.4\n",
      "idna==2.8\n",
      "imageio==2.6.1\n",
      "imagesize==1.2.0\n",
      "importlib-metadata==1.5.0\n",
      "intervaltree==3.0.2\n",
      "ipykernel==5.1.4\n",
      "ipython==7.12.0\n",
      "ipython-genutils==0.2.0\n",
      "ipywidgets==7.5.1\n",
      "isort==4.3.21\n",
      "itsdangerous==1.1.0\n",
      "jdcal==1.4.1\n",
      "jedi==0.14.1\n",
      "Jinja2==2.11.1\n",
      "joblib==0.14.1\n",
      "json5==0.9.1\n",
      "jsonschema==3.2.0\n",
      "jupyter==1.0.0\n",
      "jupyter-client==5.3.4\n",
      "jupyter-console==6.1.0\n",
      "jupyter-core==4.6.1\n",
      "jupyterlab==1.2.6\n",
      "jupyterlab-server==1.0.6\n",
      "keyring==21.1.0\n",
      "kiwisolver==1.1.0\n",
      "lazy-object-proxy==1.4.3\n",
      "libarchive-c==2.8\n",
      "llvmlite==0.31.0\n",
      "locket==0.2.0\n",
      "lxml==4.5.0\n",
      "MarkupSafe==1.1.1\n",
      "matplotlib==3.1.3\n",
      "mccabe==0.6.1\n",
      "menuinst==1.4.16\n",
      "mistune==0.8.4\n",
      "mkl-fft==1.0.15\n",
      "mkl-random==1.1.0\n",
      "mkl-service==2.3.0\n",
      "mock==4.0.1\n",
      "more-itertools==8.2.0\n",
      "mpmath==1.1.0\n",
      "msgpack==0.6.1\n",
      "multipledispatch==0.6.0\n",
      "navigator-updater==0.2.1\n",
      "nbconvert==5.6.1\n",
      "nbformat==5.0.4\n",
      "networkx==2.4\n",
      "nltk==3.4.5\n",
      "nose==1.3.7\n",
      "notebook==6.0.3\n",
      "numba==0.48.0\n",
      "numexpr==2.7.1\n",
      "numpy==1.18.1\n",
      "numpydoc==0.9.2\n",
      "olefile==0.46\n",
      "openpyxl==3.0.3\n",
      "packaging==20.1\n",
      "pandas==1.0.1\n",
      "pandocfilters==1.4.2\n",
      "paramiko==2.7.1\n",
      "parso==0.5.2\n",
      "partd==1.1.0\n",
      "path==13.1.0\n",
      "pathlib2==2.3.5\n",
      "pathtools==0.1.2\n",
      "patsy==0.5.1\n",
      "pep8==1.7.1\n",
      "pexpect==4.8.0\n",
      "pickleshare==0.7.5\n",
      "Pillow==7.0.0\n",
      "pkginfo==1.5.0.1\n",
      "pluggy==0.13.1\n",
      "ply==3.11\n",
      "prometheus-client==0.7.1\n",
      "prompt-toolkit==3.0.3\n",
      "psutil==5.6.7\n",
      "py==1.8.1\n",
      "pycodestyle==2.5.0\n",
      "pycosat==0.6.3\n",
      "pycparser==2.19\n",
      "pycrypto==2.6.1\n",
      "pycurl==7.43.0.5\n",
      "pydocstyle==4.0.1\n",
      "pydot==1.4.1\n",
      "pyflakes==2.1.1\n",
      "Pygments==2.5.2\n",
      "pylint==2.4.4\n",
      "PyNaCl==1.3.0\n",
      "pyodbc===4.0.0-unsupported\n",
      "pyOpenSSL==19.1.0\n",
      "pyparsing==2.4.6\n",
      "pyreadline==2.1\n",
      "pyrsistent==0.15.7\n",
      "PySocks==1.7.1\n",
      "pytest==5.3.5\n",
      "pytest-arraydiff==0.3\n",
      "pytest-astropy==0.8.0\n",
      "pytest-astropy-header==0.1.2\n",
      "pytest-doctestplus==0.5.0\n",
      "pytest-openfiles==0.4.0\n",
      "pytest-remotedata==0.3.2\n",
      "python-dateutil==2.8.1\n",
      "python-jsonrpc-server==0.3.4\n",
      "python-language-server==0.31.7\n",
      "pytz==2019.3\n",
      "PyWavelets==1.1.1\n",
      "pywin32==227\n",
      "pywin32-ctypes==0.2.0\n",
      "pywinpty==0.5.7\n",
      "PyYAML==5.3\n",
      "pyzmq==18.1.1\n",
      "QDarkStyle==2.8\n",
      "QtAwesome==0.6.1\n",
      "qtconsole==4.6.0\n",
      "QtPy==1.9.0\n",
      "requests==2.22.0\n",
      "rope==0.16.0\n",
      "Rtree==0.9.3\n",
      "ruamel-yaml==0.15.87\n",
      "scikit-image==0.16.2\n",
      "scikit-learn==0.22.1\n",
      "scipy==1.4.1\n",
      "seaborn==0.10.0\n",
      "Send2Trash==1.5.0\n",
      "simplegeneric==0.8.1\n",
      "singledispatch==3.4.0.3\n",
      "six==1.14.0\n",
      "snowballstemmer==2.0.0\n",
      "sortedcollections==1.1.2\n",
      "sortedcontainers==2.1.0\n",
      "soupsieve==1.9.5\n",
      "Sphinx==2.4.0\n",
      "sphinxcontrib-applehelp==1.0.1\n",
      "sphinxcontrib-devhelp==1.0.1\n",
      "sphinxcontrib-htmlhelp==1.0.2\n",
      "sphinxcontrib-jsmath==1.0.1\n",
      "sphinxcontrib-qthelp==1.0.2\n",
      "sphinxcontrib-serializinghtml==1.1.3\n",
      "sphinxcontrib-websupport==1.2.0\n",
      "spyder==4.0.1\n",
      "spyder-kernels==1.8.1\n",
      "SQLAlchemy==1.3.13\n",
      "statsmodels==0.11.0\n",
      "sympy==1.5.1\n",
      "tables==3.6.1\n",
      "tblib==1.6.0\n",
      "terminado==0.8.3\n",
      "testpath==0.4.4\n",
      "toolz==0.10.0\n",
      "tornado==6.0.3\n",
      "tqdm==4.42.1\n",
      "traitlets==4.3.3\n",
      "ujson==1.35\n",
      "unicodecsv==0.14.1\n",
      "urllib3==1.25.8\n",
      "watchdog==0.10.2\n",
      "wcwidth==0.1.8\n",
      "webencodings==0.5.1\n",
      "Werkzeug==1.0.0\n",
      "widgetsnbextension==3.5.1\n",
      "win-inet-pton==1.1.0\n",
      "win-unicode-console==0.5\n",
      "wincertstore==0.2\n",
      "wrapt==1.11.2\n",
      "xgboost==0.90\n",
      "xlrd==1.2.0\n",
      "XlsxWriter==1.2.7\n",
      "xlwings==0.17.1\n",
      "xlwt==1.3.0\n",
      "xmltodict==0.12.0\n",
      "yapf==0.28.0\n",
      "zict==1.0.0\n",
      "zipp==2.2.0\n",
      "Note: you may need to restart the kernel to use updated packages.\n"
     ]
    }
   ],
   "source": [
    "pip freeze"
   ]
  }
 ],
 "metadata": {
  "kernelspec": {
   "display_name": "Python 3",
   "language": "python",
   "name": "python3"
  },
  "language_info": {
   "codemirror_mode": {
    "name": "ipython",
    "version": 3
   },
   "file_extension": ".py",
   "mimetype": "text/x-python",
   "name": "python",
   "nbconvert_exporter": "python",
   "pygments_lexer": "ipython3",
   "version": "3.7.6"
  }
 },
 "nbformat": 4,
 "nbformat_minor": 4
}
